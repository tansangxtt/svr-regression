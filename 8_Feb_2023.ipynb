{
 "cells": [
  {
   "cell_type": "code",
   "execution_count": 288,
   "id": "9765f491",
   "metadata": {},
   "outputs": [],
   "source": [
    "import numpy as np\n",
    "import matplotlib.pyplot as plt\n",
    "import pandas as pd"
   ]
  },
  {
   "cell_type": "code",
   "execution_count": 289,
   "id": "fc03d600",
   "metadata": {},
   "outputs": [
    {
     "data": {
      "text/html": [
       "<div>\n",
       "<style scoped>\n",
       "    .dataframe tbody tr th:only-of-type {\n",
       "        vertical-align: middle;\n",
       "    }\n",
       "\n",
       "    .dataframe tbody tr th {\n",
       "        vertical-align: top;\n",
       "    }\n",
       "\n",
       "    .dataframe thead th {\n",
       "        text-align: right;\n",
       "    }\n",
       "</style>\n",
       "<table border=\"1\" class=\"dataframe\">\n",
       "  <thead>\n",
       "    <tr style=\"text-align: right;\">\n",
       "      <th></th>\n",
       "      <th>Period</th>\n",
       "      <th>Ax</th>\n",
       "      <th>Bx</th>\n",
       "      <th>Gap</th>\n",
       "      <th>Au</th>\n",
       "      <th>Lam</th>\n",
       "      <th>Force</th>\n",
       "    </tr>\n",
       "  </thead>\n",
       "  <tbody>\n",
       "    <tr>\n",
       "      <th>0</th>\n",
       "      <td>950</td>\n",
       "      <td>115</td>\n",
       "      <td>295</td>\n",
       "      <td>70</td>\n",
       "      <td>70</td>\n",
       "      <td>0.636</td>\n",
       "      <td>4.120000e-11</td>\n",
       "    </tr>\n",
       "    <tr>\n",
       "      <th>1</th>\n",
       "      <td>950</td>\n",
       "      <td>115</td>\n",
       "      <td>295</td>\n",
       "      <td>70</td>\n",
       "      <td>70</td>\n",
       "      <td>0.638</td>\n",
       "      <td>6.980000e-11</td>\n",
       "    </tr>\n",
       "    <tr>\n",
       "      <th>2</th>\n",
       "      <td>950</td>\n",
       "      <td>115</td>\n",
       "      <td>295</td>\n",
       "      <td>70</td>\n",
       "      <td>70</td>\n",
       "      <td>0.640</td>\n",
       "      <td>1.240000e-10</td>\n",
       "    </tr>\n",
       "    <tr>\n",
       "      <th>3</th>\n",
       "      <td>950</td>\n",
       "      <td>115</td>\n",
       "      <td>295</td>\n",
       "      <td>70</td>\n",
       "      <td>70</td>\n",
       "      <td>0.642</td>\n",
       "      <td>-1.410000e-10</td>\n",
       "    </tr>\n",
       "    <tr>\n",
       "      <th>4</th>\n",
       "      <td>950</td>\n",
       "      <td>115</td>\n",
       "      <td>295</td>\n",
       "      <td>70</td>\n",
       "      <td>90</td>\n",
       "      <td>0.632</td>\n",
       "      <td>6.220000e-11</td>\n",
       "    </tr>\n",
       "    <tr>\n",
       "      <th>...</th>\n",
       "      <td>...</td>\n",
       "      <td>...</td>\n",
       "      <td>...</td>\n",
       "      <td>...</td>\n",
       "      <td>...</td>\n",
       "      <td>...</td>\n",
       "      <td>...</td>\n",
       "    </tr>\n",
       "    <tr>\n",
       "      <th>9995</th>\n",
       "      <td>950</td>\n",
       "      <td>195</td>\n",
       "      <td>335</td>\n",
       "      <td>420</td>\n",
       "      <td>150</td>\n",
       "      <td>0.634</td>\n",
       "      <td>2.940000e-10</td>\n",
       "    </tr>\n",
       "    <tr>\n",
       "      <th>9996</th>\n",
       "      <td>950</td>\n",
       "      <td>195</td>\n",
       "      <td>335</td>\n",
       "      <td>420</td>\n",
       "      <td>150</td>\n",
       "      <td>0.636</td>\n",
       "      <td>2.950000e-10</td>\n",
       "    </tr>\n",
       "    <tr>\n",
       "      <th>9997</th>\n",
       "      <td>950</td>\n",
       "      <td>195</td>\n",
       "      <td>335</td>\n",
       "      <td>420</td>\n",
       "      <td>150</td>\n",
       "      <td>0.638</td>\n",
       "      <td>2.960000e-10</td>\n",
       "    </tr>\n",
       "    <tr>\n",
       "      <th>9998</th>\n",
       "      <td>950</td>\n",
       "      <td>195</td>\n",
       "      <td>335</td>\n",
       "      <td>420</td>\n",
       "      <td>150</td>\n",
       "      <td>0.640</td>\n",
       "      <td>2.970000e-10</td>\n",
       "    </tr>\n",
       "    <tr>\n",
       "      <th>9999</th>\n",
       "      <td>950</td>\n",
       "      <td>195</td>\n",
       "      <td>335</td>\n",
       "      <td>420</td>\n",
       "      <td>150</td>\n",
       "      <td>0.642</td>\n",
       "      <td>2.980000e-10</td>\n",
       "    </tr>\n",
       "  </tbody>\n",
       "</table>\n",
       "<p>10000 rows × 7 columns</p>\n",
       "</div>"
      ],
      "text/plain": [
       "      Period   Ax   Bx  Gap   Au    Lam         Force\n",
       "0        950  115  295   70   70  0.636  4.120000e-11\n",
       "1        950  115  295   70   70  0.638  6.980000e-11\n",
       "2        950  115  295   70   70  0.640  1.240000e-10\n",
       "3        950  115  295   70   70  0.642 -1.410000e-10\n",
       "4        950  115  295   70   90  0.632  6.220000e-11\n",
       "...      ...  ...  ...  ...  ...    ...           ...\n",
       "9995     950  195  335  420  150  0.634  2.940000e-10\n",
       "9996     950  195  335  420  150  0.636  2.950000e-10\n",
       "9997     950  195  335  420  150  0.638  2.960000e-10\n",
       "9998     950  195  335  420  150  0.640  2.970000e-10\n",
       "9999     950  195  335  420  150  0.642  2.980000e-10\n",
       "\n",
       "[10000 rows x 7 columns]"
      ]
     },
     "execution_count": 289,
     "metadata": {},
     "output_type": "execute_result"
    }
   ],
   "source": [
    "dataset = pd.read_csv(\"data-15Feb.csv\")\n",
    "dataset"
   ]
  },
  {
   "cell_type": "code",
   "execution_count": 290,
   "id": "b6eb9716",
   "metadata": {},
   "outputs": [
    {
     "data": {
      "text/html": [
       "<div>\n",
       "<style scoped>\n",
       "    .dataframe tbody tr th:only-of-type {\n",
       "        vertical-align: middle;\n",
       "    }\n",
       "\n",
       "    .dataframe tbody tr th {\n",
       "        vertical-align: top;\n",
       "    }\n",
       "\n",
       "    .dataframe thead th {\n",
       "        text-align: right;\n",
       "    }\n",
       "</style>\n",
       "<table border=\"1\" class=\"dataframe\">\n",
       "  <thead>\n",
       "    <tr style=\"text-align: right;\">\n",
       "      <th></th>\n",
       "      <th>Period</th>\n",
       "      <th>Ax</th>\n",
       "      <th>Bx</th>\n",
       "      <th>Gap</th>\n",
       "      <th>Au</th>\n",
       "      <th>Lam</th>\n",
       "    </tr>\n",
       "  </thead>\n",
       "  <tbody>\n",
       "    <tr>\n",
       "      <th>0</th>\n",
       "      <td>950</td>\n",
       "      <td>115</td>\n",
       "      <td>295</td>\n",
       "      <td>70</td>\n",
       "      <td>70</td>\n",
       "      <td>0.636</td>\n",
       "    </tr>\n",
       "    <tr>\n",
       "      <th>1</th>\n",
       "      <td>950</td>\n",
       "      <td>115</td>\n",
       "      <td>295</td>\n",
       "      <td>70</td>\n",
       "      <td>70</td>\n",
       "      <td>0.638</td>\n",
       "    </tr>\n",
       "    <tr>\n",
       "      <th>2</th>\n",
       "      <td>950</td>\n",
       "      <td>115</td>\n",
       "      <td>295</td>\n",
       "      <td>70</td>\n",
       "      <td>70</td>\n",
       "      <td>0.640</td>\n",
       "    </tr>\n",
       "    <tr>\n",
       "      <th>3</th>\n",
       "      <td>950</td>\n",
       "      <td>115</td>\n",
       "      <td>295</td>\n",
       "      <td>70</td>\n",
       "      <td>70</td>\n",
       "      <td>0.642</td>\n",
       "    </tr>\n",
       "    <tr>\n",
       "      <th>4</th>\n",
       "      <td>950</td>\n",
       "      <td>115</td>\n",
       "      <td>295</td>\n",
       "      <td>70</td>\n",
       "      <td>90</td>\n",
       "      <td>0.632</td>\n",
       "    </tr>\n",
       "    <tr>\n",
       "      <th>...</th>\n",
       "      <td>...</td>\n",
       "      <td>...</td>\n",
       "      <td>...</td>\n",
       "      <td>...</td>\n",
       "      <td>...</td>\n",
       "      <td>...</td>\n",
       "    </tr>\n",
       "    <tr>\n",
       "      <th>9995</th>\n",
       "      <td>950</td>\n",
       "      <td>195</td>\n",
       "      <td>335</td>\n",
       "      <td>420</td>\n",
       "      <td>150</td>\n",
       "      <td>0.634</td>\n",
       "    </tr>\n",
       "    <tr>\n",
       "      <th>9996</th>\n",
       "      <td>950</td>\n",
       "      <td>195</td>\n",
       "      <td>335</td>\n",
       "      <td>420</td>\n",
       "      <td>150</td>\n",
       "      <td>0.636</td>\n",
       "    </tr>\n",
       "    <tr>\n",
       "      <th>9997</th>\n",
       "      <td>950</td>\n",
       "      <td>195</td>\n",
       "      <td>335</td>\n",
       "      <td>420</td>\n",
       "      <td>150</td>\n",
       "      <td>0.638</td>\n",
       "    </tr>\n",
       "    <tr>\n",
       "      <th>9998</th>\n",
       "      <td>950</td>\n",
       "      <td>195</td>\n",
       "      <td>335</td>\n",
       "      <td>420</td>\n",
       "      <td>150</td>\n",
       "      <td>0.640</td>\n",
       "    </tr>\n",
       "    <tr>\n",
       "      <th>9999</th>\n",
       "      <td>950</td>\n",
       "      <td>195</td>\n",
       "      <td>335</td>\n",
       "      <td>420</td>\n",
       "      <td>150</td>\n",
       "      <td>0.642</td>\n",
       "    </tr>\n",
       "  </tbody>\n",
       "</table>\n",
       "<p>10000 rows × 6 columns</p>\n",
       "</div>"
      ],
      "text/plain": [
       "      Period   Ax   Bx  Gap   Au    Lam\n",
       "0        950  115  295   70   70  0.636\n",
       "1        950  115  295   70   70  0.638\n",
       "2        950  115  295   70   70  0.640\n",
       "3        950  115  295   70   70  0.642\n",
       "4        950  115  295   70   90  0.632\n",
       "...      ...  ...  ...  ...  ...    ...\n",
       "9995     950  195  335  420  150  0.634\n",
       "9996     950  195  335  420  150  0.636\n",
       "9997     950  195  335  420  150  0.638\n",
       "9998     950  195  335  420  150  0.640\n",
       "9999     950  195  335  420  150  0.642\n",
       "\n",
       "[10000 rows x 6 columns]"
      ]
     },
     "execution_count": 290,
     "metadata": {},
     "output_type": "execute_result"
    }
   ],
   "source": [
    "X = dataset.iloc[:, 0:6]\n",
    "X"
   ]
  },
  {
   "cell_type": "code",
   "execution_count": 291,
   "id": "6d18c5d9",
   "metadata": {},
   "outputs": [
    {
     "data": {
      "text/html": [
       "<div>\n",
       "<style scoped>\n",
       "    .dataframe tbody tr th:only-of-type {\n",
       "        vertical-align: middle;\n",
       "    }\n",
       "\n",
       "    .dataframe tbody tr th {\n",
       "        vertical-align: top;\n",
       "    }\n",
       "\n",
       "    .dataframe thead th {\n",
       "        text-align: right;\n",
       "    }\n",
       "</style>\n",
       "<table border=\"1\" class=\"dataframe\">\n",
       "  <thead>\n",
       "    <tr style=\"text-align: right;\">\n",
       "      <th></th>\n",
       "      <th>Force</th>\n",
       "    </tr>\n",
       "  </thead>\n",
       "  <tbody>\n",
       "    <tr>\n",
       "      <th>0</th>\n",
       "      <td>4.120000e-11</td>\n",
       "    </tr>\n",
       "    <tr>\n",
       "      <th>1</th>\n",
       "      <td>6.980000e-11</td>\n",
       "    </tr>\n",
       "    <tr>\n",
       "      <th>2</th>\n",
       "      <td>1.240000e-10</td>\n",
       "    </tr>\n",
       "    <tr>\n",
       "      <th>3</th>\n",
       "      <td>-1.410000e-10</td>\n",
       "    </tr>\n",
       "    <tr>\n",
       "      <th>4</th>\n",
       "      <td>6.220000e-11</td>\n",
       "    </tr>\n",
       "    <tr>\n",
       "      <th>...</th>\n",
       "      <td>...</td>\n",
       "    </tr>\n",
       "    <tr>\n",
       "      <th>9995</th>\n",
       "      <td>2.940000e-10</td>\n",
       "    </tr>\n",
       "    <tr>\n",
       "      <th>9996</th>\n",
       "      <td>2.950000e-10</td>\n",
       "    </tr>\n",
       "    <tr>\n",
       "      <th>9997</th>\n",
       "      <td>2.960000e-10</td>\n",
       "    </tr>\n",
       "    <tr>\n",
       "      <th>9998</th>\n",
       "      <td>2.970000e-10</td>\n",
       "    </tr>\n",
       "    <tr>\n",
       "      <th>9999</th>\n",
       "      <td>2.980000e-10</td>\n",
       "    </tr>\n",
       "  </tbody>\n",
       "</table>\n",
       "<p>10000 rows × 1 columns</p>\n",
       "</div>"
      ],
      "text/plain": [
       "             Force\n",
       "0     4.120000e-11\n",
       "1     6.980000e-11\n",
       "2     1.240000e-10\n",
       "3    -1.410000e-10\n",
       "4     6.220000e-11\n",
       "...            ...\n",
       "9995  2.940000e-10\n",
       "9996  2.950000e-10\n",
       "9997  2.960000e-10\n",
       "9998  2.970000e-10\n",
       "9999  2.980000e-10\n",
       "\n",
       "[10000 rows x 1 columns]"
      ]
     },
     "execution_count": 291,
     "metadata": {},
     "output_type": "execute_result"
    }
   ],
   "source": [
    "Y = dataset.iloc[:, 6:7]\n",
    "Y"
   ]
  },
  {
   "cell_type": "code",
   "execution_count": 292,
   "id": "10fa1ff4",
   "metadata": {},
   "outputs": [],
   "source": [
    "# Feature Scaling\n",
    "from sklearn.preprocessing import StandardScaler\n",
    "sc_X = StandardScaler()\n",
    "sc_Y = StandardScaler()\n",
    "X = sc_X.fit_transform(X)\n",
    "Y = sc_Y.fit_transform(Y)\n",
    "# X = X.to_numpy()\n",
    "# Y = Y.to_numpy()"
   ]
  },
  {
   "cell_type": "code",
   "execution_count": 293,
   "id": "3936ddc6",
   "metadata": {},
   "outputs": [
    {
     "data": {
      "text/plain": [
       "array([[ 0.        , -1.76021608,  0.40289533, -1.17154695, -0.87964606,\n",
       "        -0.29301764],\n",
       "       [ 0.        , -1.76021608,  0.40289533, -1.17154695, -0.87964606,\n",
       "         0.29254919],\n",
       "       [ 0.        , -1.76021608,  0.40289533, -1.17154695, -0.87964606,\n",
       "         0.87811602],\n",
       "       ...,\n",
       "       [ 0.        ,  1.34422145,  1.39769862,  1.54683964,  1.46326527,\n",
       "         0.29254919],\n",
       "       [ 0.        ,  1.34422145,  1.39769862,  1.54683964,  1.46326527,\n",
       "         0.87811602],\n",
       "       [ 0.        ,  1.34422145,  1.39769862,  1.54683964,  1.46326527,\n",
       "         1.46368285]])"
      ]
     },
     "execution_count": 293,
     "metadata": {},
     "output_type": "execute_result"
    }
   ],
   "source": [
    "X"
   ]
  },
  {
   "cell_type": "code",
   "execution_count": 294,
   "id": "2ce11d16",
   "metadata": {},
   "outputs": [
    {
     "data": {
      "text/plain": [
       "array([[0.14685433],\n",
       "       [0.24632435],\n",
       "       [0.43483048],\n",
       "       ...,\n",
       "       [1.03304183],\n",
       "       [1.0365198 ],\n",
       "       [1.03999777]])"
      ]
     },
     "execution_count": 294,
     "metadata": {},
     "output_type": "execute_result"
    }
   ],
   "source": [
    "# Y = Y*10**5\n",
    "Y"
   ]
  },
  {
   "cell_type": "code",
   "execution_count": 295,
   "id": "ccc291c9",
   "metadata": {},
   "outputs": [],
   "source": [
    "# spliting the dataset into training set and test set\n",
    "from sklearn.model_selection import train_test_split\n",
    "Y = Y.reshape(-1)\n",
    "X_train, X_test, Y_train, Y_test = train_test_split(X, Y, test_size = 0.2, random_state = 0)\n"
   ]
  },
  {
   "cell_type": "code",
   "execution_count": 296,
   "id": "bba2226f",
   "metadata": {},
   "outputs": [
    {
     "data": {
      "text/html": [
       "<style>#sk-container-id-20 {color: black;background-color: white;}#sk-container-id-20 pre{padding: 0;}#sk-container-id-20 div.sk-toggleable {background-color: white;}#sk-container-id-20 label.sk-toggleable__label {cursor: pointer;display: block;width: 100%;margin-bottom: 0;padding: 0.3em;box-sizing: border-box;text-align: center;}#sk-container-id-20 label.sk-toggleable__label-arrow:before {content: \"▸\";float: left;margin-right: 0.25em;color: #696969;}#sk-container-id-20 label.sk-toggleable__label-arrow:hover:before {color: black;}#sk-container-id-20 div.sk-estimator:hover label.sk-toggleable__label-arrow:before {color: black;}#sk-container-id-20 div.sk-toggleable__content {max-height: 0;max-width: 0;overflow: hidden;text-align: left;background-color: #f0f8ff;}#sk-container-id-20 div.sk-toggleable__content pre {margin: 0.2em;color: black;border-radius: 0.25em;background-color: #f0f8ff;}#sk-container-id-20 input.sk-toggleable__control:checked~div.sk-toggleable__content {max-height: 200px;max-width: 100%;overflow: auto;}#sk-container-id-20 input.sk-toggleable__control:checked~label.sk-toggleable__label-arrow:before {content: \"▾\";}#sk-container-id-20 div.sk-estimator input.sk-toggleable__control:checked~label.sk-toggleable__label {background-color: #d4ebff;}#sk-container-id-20 div.sk-label input.sk-toggleable__control:checked~label.sk-toggleable__label {background-color: #d4ebff;}#sk-container-id-20 input.sk-hidden--visually {border: 0;clip: rect(1px 1px 1px 1px);clip: rect(1px, 1px, 1px, 1px);height: 1px;margin: -1px;overflow: hidden;padding: 0;position: absolute;width: 1px;}#sk-container-id-20 div.sk-estimator {font-family: monospace;background-color: #f0f8ff;border: 1px dotted black;border-radius: 0.25em;box-sizing: border-box;margin-bottom: 0.5em;}#sk-container-id-20 div.sk-estimator:hover {background-color: #d4ebff;}#sk-container-id-20 div.sk-parallel-item::after {content: \"\";width: 100%;border-bottom: 1px solid gray;flex-grow: 1;}#sk-container-id-20 div.sk-label:hover label.sk-toggleable__label {background-color: #d4ebff;}#sk-container-id-20 div.sk-serial::before {content: \"\";position: absolute;border-left: 1px solid gray;box-sizing: border-box;top: 0;bottom: 0;left: 50%;z-index: 0;}#sk-container-id-20 div.sk-serial {display: flex;flex-direction: column;align-items: center;background-color: white;padding-right: 0.2em;padding-left: 0.2em;position: relative;}#sk-container-id-20 div.sk-item {position: relative;z-index: 1;}#sk-container-id-20 div.sk-parallel {display: flex;align-items: stretch;justify-content: center;background-color: white;position: relative;}#sk-container-id-20 div.sk-item::before, #sk-container-id-20 div.sk-parallel-item::before {content: \"\";position: absolute;border-left: 1px solid gray;box-sizing: border-box;top: 0;bottom: 0;left: 50%;z-index: -1;}#sk-container-id-20 div.sk-parallel-item {display: flex;flex-direction: column;z-index: 1;position: relative;background-color: white;}#sk-container-id-20 div.sk-parallel-item:first-child::after {align-self: flex-end;width: 50%;}#sk-container-id-20 div.sk-parallel-item:last-child::after {align-self: flex-start;width: 50%;}#sk-container-id-20 div.sk-parallel-item:only-child::after {width: 0;}#sk-container-id-20 div.sk-dashed-wrapped {border: 1px dashed gray;margin: 0 0.4em 0.5em 0.4em;box-sizing: border-box;padding-bottom: 0.4em;background-color: white;}#sk-container-id-20 div.sk-label label {font-family: monospace;font-weight: bold;display: inline-block;line-height: 1.2em;}#sk-container-id-20 div.sk-label-container {text-align: center;}#sk-container-id-20 div.sk-container {/* jupyter's `normalize.less` sets `[hidden] { display: none; }` but bootstrap.min.css set `[hidden] { display: none !important; }` so we also need the `!important` here to be able to override the default hidden behavior on the sphinx rendered scikit-learn.org. See: https://github.com/scikit-learn/scikit-learn/issues/21755 */display: inline-block !important;position: relative;}#sk-container-id-20 div.sk-text-repr-fallback {display: none;}</style><div id=\"sk-container-id-20\" class=\"sk-top-container\"><div class=\"sk-text-repr-fallback\"><pre>SVR(C=100, gamma=0.9)</pre><b>In a Jupyter environment, please rerun this cell to show the HTML representation or trust the notebook. <br />On GitHub, the HTML representation is unable to render, please try loading this page with nbviewer.org.</b></div><div class=\"sk-container\" hidden><div class=\"sk-item\"><div class=\"sk-estimator sk-toggleable\"><input class=\"sk-toggleable__control sk-hidden--visually\" id=\"sk-estimator-id-20\" type=\"checkbox\" checked><label for=\"sk-estimator-id-20\" class=\"sk-toggleable__label sk-toggleable__label-arrow\">SVR</label><div class=\"sk-toggleable__content\"><pre>SVR(C=100, gamma=0.9)</pre></div></div></div></div></div>"
      ],
      "text/plain": [
       "SVR(C=100, gamma=0.9)"
      ]
     },
     "execution_count": 296,
     "metadata": {},
     "output_type": "execute_result"
    }
   ],
   "source": [
    "from sklearn.svm import SVR\n",
    "# The most important SVR parameter is the Kernel. We would select RBF (Radial Basis Function) first\n",
    "regressor = SVR(kernel = 'rbf', gamma=0.9, C=100)\n",
    "regressor.fit(X_train, Y_train)"
   ]
  },
  {
   "cell_type": "code",
   "execution_count": 297,
   "id": "846b6599",
   "metadata": {},
   "outputs": [
    {
     "data": {
      "text/plain": [
       "(10000,)"
      ]
     },
     "execution_count": 297,
     "metadata": {},
     "output_type": "execute_result"
    }
   ],
   "source": [
    "y_pred = regressor.predict(X)\n",
    "y_pred.shape"
   ]
  },
  {
   "cell_type": "code",
   "execution_count": 298,
   "id": "e9fb348f",
   "metadata": {},
   "outputs": [],
   "source": [
    "y_pred_train = regressor.predict(X_train)\n"
   ]
  },
  {
   "cell_type": "code",
   "execution_count": 299,
   "id": "d1ce6498",
   "metadata": {},
   "outputs": [
    {
     "data": {
      "text/plain": [
       "0.005570117103209262"
      ]
     },
     "execution_count": 299,
     "metadata": {},
     "output_type": "execute_result"
    }
   ],
   "source": [
    "training_error = np.mean(np.square(np.array(Y_train) - np.array(y_pred_train)))\n",
    "training_error"
   ]
  },
  {
   "cell_type": "code",
   "execution_count": 300,
   "id": "94fdd827",
   "metadata": {},
   "outputs": [
    {
     "data": {
      "text/plain": [
       "0.01092419934568895"
      ]
     },
     "execution_count": 300,
     "metadata": {},
     "output_type": "execute_result"
    }
   ],
   "source": [
    "y_pred_test = regressor.predict(X_test)\n",
    "testing_error = np.mean(np.square(np.array(Y_test) - np.array(y_pred_test)))\n",
    "testing_error"
   ]
  },
  {
   "cell_type": "code",
   "execution_count": 301,
   "id": "19ea87af",
   "metadata": {},
   "outputs": [
    {
     "name": "stdout",
     "output_type": "stream",
     "text": [
      "(2000,) (2000,) (2000, 6)\n"
     ]
    }
   ],
   "source": [
    "#combined = [y_pred_test, Y_test]\n",
    "# Period   Ax   Bx  Gap   Au\n",
    "\n",
    "#Reverse the scaling\n",
    "X_test = sc_X.inverse_transform(X_test)\n",
    "y_pred_test = sc_Y.inverse_transform(y_pred_test.reshape(1, -1))\n",
    "Y_test = sc_Y.inverse_transform(Y_test.reshape(1, -1))\n",
    "y_pred_test = y_pred_test.reshape(-1)\n",
    "Y_test = Y_test.reshape(-1)\n",
    "print(y_pred_test.shape, Y_test.shape, X_test.shape)\n",
    "\n",
    "\n",
    "df = pd.DataFrame({'Period': X_test[:,0], 'Ax': X_test[:,1], 'Bx': X_test[:,2], 'Gap': X_test[:,3], 'Au': X_test[:,4], 'Lam': X_test[:,5], 'Predicted': y_pred_test, 'Actual': Y_test })\n",
    "df.to_csv(\"out.csv\", index=False)"
   ]
  }
 ],
 "metadata": {
  "kernelspec": {
   "display_name": "ipynb",
   "language": "python",
   "name": "python3"
  },
  "language_info": {
   "codemirror_mode": {
    "name": "ipython",
    "version": 3
   },
   "file_extension": ".py",
   "mimetype": "text/x-python",
   "name": "python",
   "nbconvert_exporter": "python",
   "pygments_lexer": "ipython3",
   "version": "3.10.4"
  },
  "vscode": {
   "interpreter": {
    "hash": "801bd5216b123d7f709e56eab2b1e5e6f0bd9892e7d188692e30d78991375747"
   }
  }
 },
 "nbformat": 4,
 "nbformat_minor": 5
}
