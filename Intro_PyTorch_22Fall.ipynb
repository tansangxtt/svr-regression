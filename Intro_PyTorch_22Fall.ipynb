{
 "nbformat": 4,
 "nbformat_minor": 0,
 "metadata": {
  "colab": {
   "provenance": [],
   "collapsed_sections": [],
   "toc_visible": true
  },
  "kernelspec": {
   "name": "python3",
   "display_name": "Python 3"
  },
  "accelerator": "GPU",
  "widgets": {
   "application/vnd.jupyter.widget-state+json": {
    "5e776520b1214c9d9308dc0de041a0b3": {
     "model_module": "@jupyter-widgets/controls",
     "model_name": "HBoxModel",
     "model_module_version": "1.5.0",
     "state": {
      "_dom_classes": [],
      "_model_module": "@jupyter-widgets/controls",
      "_model_module_version": "1.5.0",
      "_model_name": "HBoxModel",
      "_view_count": null,
      "_view_module": "@jupyter-widgets/controls",
      "_view_module_version": "1.5.0",
      "_view_name": "HBoxView",
      "box_style": "",
      "children": [
       "IPY_MODEL_c9e015be784949618fdcd15398555a51",
       "IPY_MODEL_14588262e3634ead8bf85186a1dbde6c",
       "IPY_MODEL_f0630a0014fe4811abcadbf38bf5ca6e"
      ],
      "layout": "IPY_MODEL_1ed9b9420c214c738917f0331d4889c0"
     }
    },
    "c9e015be784949618fdcd15398555a51": {
     "model_module": "@jupyter-widgets/controls",
     "model_name": "HTMLModel",
     "model_module_version": "1.5.0",
     "state": {
      "_dom_classes": [],
      "_model_module": "@jupyter-widgets/controls",
      "_model_module_version": "1.5.0",
      "_model_name": "HTMLModel",
      "_view_count": null,
      "_view_module": "@jupyter-widgets/controls",
      "_view_module_version": "1.5.0",
      "_view_name": "HTMLView",
      "description": "",
      "description_tooltip": null,
      "layout": "IPY_MODEL_3a20c0cfbbb947389824b06fbf5e884b",
      "placeholder": "​",
      "style": "IPY_MODEL_28e0d62c78f84d5385bfd9a182dd4897",
      "value": "100%"
     }
    },
    "14588262e3634ead8bf85186a1dbde6c": {
     "model_module": "@jupyter-widgets/controls",
     "model_name": "FloatProgressModel",
     "model_module_version": "1.5.0",
     "state": {
      "_dom_classes": [],
      "_model_module": "@jupyter-widgets/controls",
      "_model_module_version": "1.5.0",
      "_model_name": "FloatProgressModel",
      "_view_count": null,
      "_view_module": "@jupyter-widgets/controls",
      "_view_module_version": "1.5.0",
      "_view_name": "ProgressView",
      "bar_style": "success",
      "description": "",
      "description_tooltip": null,
      "layout": "IPY_MODEL_99871b417a97416692496558383d746e",
      "max": 26421880,
      "min": 0,
      "orientation": "horizontal",
      "style": "IPY_MODEL_aa3c765135f642a19dcbee78be3c5814",
      "value": 26421880
     }
    },
    "f0630a0014fe4811abcadbf38bf5ca6e": {
     "model_module": "@jupyter-widgets/controls",
     "model_name": "HTMLModel",
     "model_module_version": "1.5.0",
     "state": {
      "_dom_classes": [],
      "_model_module": "@jupyter-widgets/controls",
      "_model_module_version": "1.5.0",
      "_model_name": "HTMLModel",
      "_view_count": null,
      "_view_module": "@jupyter-widgets/controls",
      "_view_module_version": "1.5.0",
      "_view_name": "HTMLView",
      "description": "",
      "description_tooltip": null,
      "layout": "IPY_MODEL_28bd50f707334e2ab73f121600bfad5e",
      "placeholder": "​",
      "style": "IPY_MODEL_b64a2ac071424a1ba0fdf75b702d8a90",
      "value": " 26421880/26421880 [00:01&lt;00:00, 25112697.89it/s]"
     }
    },
    "1ed9b9420c214c738917f0331d4889c0": {
     "model_module": "@jupyter-widgets/base",
     "model_name": "LayoutModel",
     "model_module_version": "1.2.0",
     "state": {
      "_model_module": "@jupyter-widgets/base",
      "_model_module_version": "1.2.0",
      "_model_name": "LayoutModel",
      "_view_count": null,
      "_view_module": "@jupyter-widgets/base",
      "_view_module_version": "1.2.0",
      "_view_name": "LayoutView",
      "align_content": null,
      "align_items": null,
      "align_self": null,
      "border": null,
      "bottom": null,
      "display": null,
      "flex": null,
      "flex_flow": null,
      "grid_area": null,
      "grid_auto_columns": null,
      "grid_auto_flow": null,
      "grid_auto_rows": null,
      "grid_column": null,
      "grid_gap": null,
      "grid_row": null,
      "grid_template_areas": null,
      "grid_template_columns": null,
      "grid_template_rows": null,
      "height": null,
      "justify_content": null,
      "justify_items": null,
      "left": null,
      "margin": null,
      "max_height": null,
      "max_width": null,
      "min_height": null,
      "min_width": null,
      "object_fit": null,
      "object_position": null,
      "order": null,
      "overflow": null,
      "overflow_x": null,
      "overflow_y": null,
      "padding": null,
      "right": null,
      "top": null,
      "visibility": null,
      "width": null
     }
    },
    "3a20c0cfbbb947389824b06fbf5e884b": {
     "model_module": "@jupyter-widgets/base",
     "model_name": "LayoutModel",
     "model_module_version": "1.2.0",
     "state": {
      "_model_module": "@jupyter-widgets/base",
      "_model_module_version": "1.2.0",
      "_model_name": "LayoutModel",
      "_view_count": null,
      "_view_module": "@jupyter-widgets/base",
      "_view_module_version": "1.2.0",
      "_view_name": "LayoutView",
      "align_content": null,
      "align_items": null,
      "align_self": null,
      "border": null,
      "bottom": null,
      "display": null,
      "flex": null,
      "flex_flow": null,
      "grid_area": null,
      "grid_auto_columns": null,
      "grid_auto_flow": null,
      "grid_auto_rows": null,
      "grid_column": null,
      "grid_gap": null,
      "grid_row": null,
      "grid_template_areas": null,
      "grid_template_columns": null,
      "grid_template_rows": null,
      "height": null,
      "justify_content": null,
      "justify_items": null,
      "left": null,
      "margin": null,
      "max_height": null,
      "max_width": null,
      "min_height": null,
      "min_width": null,
      "object_fit": null,
      "object_position": null,
      "order": null,
      "overflow": null,
      "overflow_x": null,
      "overflow_y": null,
      "padding": null,
      "right": null,
      "top": null,
      "visibility": null,
      "width": null
     }
    },
    "28e0d62c78f84d5385bfd9a182dd4897": {
     "model_module": "@jupyter-widgets/controls",
     "model_name": "DescriptionStyleModel",
     "model_module_version": "1.5.0",
     "state": {
      "_model_module": "@jupyter-widgets/controls",
      "_model_module_version": "1.5.0",
      "_model_name": "DescriptionStyleModel",
      "_view_count": null,
      "_view_module": "@jupyter-widgets/base",
      "_view_module_version": "1.2.0",
      "_view_name": "StyleView",
      "description_width": ""
     }
    },
    "99871b417a97416692496558383d746e": {
     "model_module": "@jupyter-widgets/base",
     "model_name": "LayoutModel",
     "model_module_version": "1.2.0",
     "state": {
      "_model_module": "@jupyter-widgets/base",
      "_model_module_version": "1.2.0",
      "_model_name": "LayoutModel",
      "_view_count": null,
      "_view_module": "@jupyter-widgets/base",
      "_view_module_version": "1.2.0",
      "_view_name": "LayoutView",
      "align_content": null,
      "align_items": null,
      "align_self": null,
      "border": null,
      "bottom": null,
      "display": null,
      "flex": null,
      "flex_flow": null,
      "grid_area": null,
      "grid_auto_columns": null,
      "grid_auto_flow": null,
      "grid_auto_rows": null,
      "grid_column": null,
      "grid_gap": null,
      "grid_row": null,
      "grid_template_areas": null,
      "grid_template_columns": null,
      "grid_template_rows": null,
      "height": null,
      "justify_content": null,
      "justify_items": null,
      "left": null,
      "margin": null,
      "max_height": null,
      "max_width": null,
      "min_height": null,
      "min_width": null,
      "object_fit": null,
      "object_position": null,
      "order": null,
      "overflow": null,
      "overflow_x": null,
      "overflow_y": null,
      "padding": null,
      "right": null,
      "top": null,
      "visibility": null,
      "width": null
     }
    },
    "aa3c765135f642a19dcbee78be3c5814": {
     "model_module": "@jupyter-widgets/controls",
     "model_name": "ProgressStyleModel",
     "model_module_version": "1.5.0",
     "state": {
      "_model_module": "@jupyter-widgets/controls",
      "_model_module_version": "1.5.0",
      "_model_name": "ProgressStyleModel",
      "_view_count": null,
      "_view_module": "@jupyter-widgets/base",
      "_view_module_version": "1.2.0",
      "_view_name": "StyleView",
      "bar_color": null,
      "description_width": ""
     }
    },
    "28bd50f707334e2ab73f121600bfad5e": {
     "model_module": "@jupyter-widgets/base",
     "model_name": "LayoutModel",
     "model_module_version": "1.2.0",
     "state": {
      "_model_module": "@jupyter-widgets/base",
      "_model_module_version": "1.2.0",
      "_model_name": "LayoutModel",
      "_view_count": null,
      "_view_module": "@jupyter-widgets/base",
      "_view_module_version": "1.2.0",
      "_view_name": "LayoutView",
      "align_content": null,
      "align_items": null,
      "align_self": null,
      "border": null,
      "bottom": null,
      "display": null,
      "flex": null,
      "flex_flow": null,
      "grid_area": null,
      "grid_auto_columns": null,
      "grid_auto_flow": null,
      "grid_auto_rows": null,
      "grid_column": null,
      "grid_gap": null,
      "grid_row": null,
      "grid_template_areas": null,
      "grid_template_columns": null,
      "grid_template_rows": null,
      "height": null,
      "justify_content": null,
      "justify_items": null,
      "left": null,
      "margin": null,
      "max_height": null,
      "max_width": null,
      "min_height": null,
      "min_width": null,
      "object_fit": null,
      "object_position": null,
      "order": null,
      "overflow": null,
      "overflow_x": null,
      "overflow_y": null,
      "padding": null,
      "right": null,
      "top": null,
      "visibility": null,
      "width": null
     }
    },
    "b64a2ac071424a1ba0fdf75b702d8a90": {
     "model_module": "@jupyter-widgets/controls",
     "model_name": "DescriptionStyleModel",
     "model_module_version": "1.5.0",
     "state": {
      "_model_module": "@jupyter-widgets/controls",
      "_model_module_version": "1.5.0",
      "_model_name": "DescriptionStyleModel",
      "_view_count": null,
      "_view_module": "@jupyter-widgets/base",
      "_view_module_version": "1.2.0",
      "_view_name": "StyleView",
      "description_width": ""
     }
    },
    "a2a263082faa4b3797904be5d55374d7": {
     "model_module": "@jupyter-widgets/controls",
     "model_name": "HBoxModel",
     "model_module_version": "1.5.0",
     "state": {
      "_dom_classes": [],
      "_model_module": "@jupyter-widgets/controls",
      "_model_module_version": "1.5.0",
      "_model_name": "HBoxModel",
      "_view_count": null,
      "_view_module": "@jupyter-widgets/controls",
      "_view_module_version": "1.5.0",
      "_view_name": "HBoxView",
      "box_style": "",
      "children": [
       "IPY_MODEL_9618c17e5a064324b971f67ac8d20a0c",
       "IPY_MODEL_3c066691b606417a941d6e6bf6af06fc",
       "IPY_MODEL_a3a82c786eaa4d7799a640efad6e5c55"
      ],
      "layout": "IPY_MODEL_f3e7b8287b424445b5e7ac1e23c7fc42"
     }
    },
    "9618c17e5a064324b971f67ac8d20a0c": {
     "model_module": "@jupyter-widgets/controls",
     "model_name": "HTMLModel",
     "model_module_version": "1.5.0",
     "state": {
      "_dom_classes": [],
      "_model_module": "@jupyter-widgets/controls",
      "_model_module_version": "1.5.0",
      "_model_name": "HTMLModel",
      "_view_count": null,
      "_view_module": "@jupyter-widgets/controls",
      "_view_module_version": "1.5.0",
      "_view_name": "HTMLView",
      "description": "",
      "description_tooltip": null,
      "layout": "IPY_MODEL_17eab947e915417f999a23cf83b2e62a",
      "placeholder": "​",
      "style": "IPY_MODEL_bbd9c3c3d26a4971961ec4d5b84f046f",
      "value": "100%"
     }
    },
    "3c066691b606417a941d6e6bf6af06fc": {
     "model_module": "@jupyter-widgets/controls",
     "model_name": "FloatProgressModel",
     "model_module_version": "1.5.0",
     "state": {
      "_dom_classes": [],
      "_model_module": "@jupyter-widgets/controls",
      "_model_module_version": "1.5.0",
      "_model_name": "FloatProgressModel",
      "_view_count": null,
      "_view_module": "@jupyter-widgets/controls",
      "_view_module_version": "1.5.0",
      "_view_name": "ProgressView",
      "bar_style": "success",
      "description": "",
      "description_tooltip": null,
      "layout": "IPY_MODEL_6d3e5ccf2ca944e3a2b6e96aaed94a9e",
      "max": 29515,
      "min": 0,
      "orientation": "horizontal",
      "style": "IPY_MODEL_0e2b6d4f3ae0467ebec2944d0f14fbf3",
      "value": 29515
     }
    },
    "a3a82c786eaa4d7799a640efad6e5c55": {
     "model_module": "@jupyter-widgets/controls",
     "model_name": "HTMLModel",
     "model_module_version": "1.5.0",
     "state": {
      "_dom_classes": [],
      "_model_module": "@jupyter-widgets/controls",
      "_model_module_version": "1.5.0",
      "_model_name": "HTMLModel",
      "_view_count": null,
      "_view_module": "@jupyter-widgets/controls",
      "_view_module_version": "1.5.0",
      "_view_name": "HTMLView",
      "description": "",
      "description_tooltip": null,
      "layout": "IPY_MODEL_d6bcb053d8c444cc8ef3cabe079ec7c8",
      "placeholder": "​",
      "style": "IPY_MODEL_58376f2802b0413f8ee1dc8102410168",
      "value": " 29515/29515 [00:00&lt;00:00, 270448.03it/s]"
     }
    },
    "f3e7b8287b424445b5e7ac1e23c7fc42": {
     "model_module": "@jupyter-widgets/base",
     "model_name": "LayoutModel",
     "model_module_version": "1.2.0",
     "state": {
      "_model_module": "@jupyter-widgets/base",
      "_model_module_version": "1.2.0",
      "_model_name": "LayoutModel",
      "_view_count": null,
      "_view_module": "@jupyter-widgets/base",
      "_view_module_version": "1.2.0",
      "_view_name": "LayoutView",
      "align_content": null,
      "align_items": null,
      "align_self": null,
      "border": null,
      "bottom": null,
      "display": null,
      "flex": null,
      "flex_flow": null,
      "grid_area": null,
      "grid_auto_columns": null,
      "grid_auto_flow": null,
      "grid_auto_rows": null,
      "grid_column": null,
      "grid_gap": null,
      "grid_row": null,
      "grid_template_areas": null,
      "grid_template_columns": null,
      "grid_template_rows": null,
      "height": null,
      "justify_content": null,
      "justify_items": null,
      "left": null,
      "margin": null,
      "max_height": null,
      "max_width": null,
      "min_height": null,
      "min_width": null,
      "object_fit": null,
      "object_position": null,
      "order": null,
      "overflow": null,
      "overflow_x": null,
      "overflow_y": null,
      "padding": null,
      "right": null,
      "top": null,
      "visibility": null,
      "width": null
     }
    },
    "17eab947e915417f999a23cf83b2e62a": {
     "model_module": "@jupyter-widgets/base",
     "model_name": "LayoutModel",
     "model_module_version": "1.2.0",
     "state": {
      "_model_module": "@jupyter-widgets/base",
      "_model_module_version": "1.2.0",
      "_model_name": "LayoutModel",
      "_view_count": null,
      "_view_module": "@jupyter-widgets/base",
      "_view_module_version": "1.2.0",
      "_view_name": "LayoutView",
      "align_content": null,
      "align_items": null,
      "align_self": null,
      "border": null,
      "bottom": null,
      "display": null,
      "flex": null,
      "flex_flow": null,
      "grid_area": null,
      "grid_auto_columns": null,
      "grid_auto_flow": null,
      "grid_auto_rows": null,
      "grid_column": null,
      "grid_gap": null,
      "grid_row": null,
      "grid_template_areas": null,
      "grid_template_columns": null,
      "grid_template_rows": null,
      "height": null,
      "justify_content": null,
      "justify_items": null,
      "left": null,
      "margin": null,
      "max_height": null,
      "max_width": null,
      "min_height": null,
      "min_width": null,
      "object_fit": null,
      "object_position": null,
      "order": null,
      "overflow": null,
      "overflow_x": null,
      "overflow_y": null,
      "padding": null,
      "right": null,
      "top": null,
      "visibility": null,
      "width": null
     }
    },
    "bbd9c3c3d26a4971961ec4d5b84f046f": {
     "model_module": "@jupyter-widgets/controls",
     "model_name": "DescriptionStyleModel",
     "model_module_version": "1.5.0",
     "state": {
      "_model_module": "@jupyter-widgets/controls",
      "_model_module_version": "1.5.0",
      "_model_name": "DescriptionStyleModel",
      "_view_count": null,
      "_view_module": "@jupyter-widgets/base",
      "_view_module_version": "1.2.0",
      "_view_name": "StyleView",
      "description_width": ""
     }
    },
    "6d3e5ccf2ca944e3a2b6e96aaed94a9e": {
     "model_module": "@jupyter-widgets/base",
     "model_name": "LayoutModel",
     "model_module_version": "1.2.0",
     "state": {
      "_model_module": "@jupyter-widgets/base",
      "_model_module_version": "1.2.0",
      "_model_name": "LayoutModel",
      "_view_count": null,
      "_view_module": "@jupyter-widgets/base",
      "_view_module_version": "1.2.0",
      "_view_name": "LayoutView",
      "align_content": null,
      "align_items": null,
      "align_self": null,
      "border": null,
      "bottom": null,
      "display": null,
      "flex": null,
      "flex_flow": null,
      "grid_area": null,
      "grid_auto_columns": null,
      "grid_auto_flow": null,
      "grid_auto_rows": null,
      "grid_column": null,
      "grid_gap": null,
      "grid_row": null,
      "grid_template_areas": null,
      "grid_template_columns": null,
      "grid_template_rows": null,
      "height": null,
      "justify_content": null,
      "justify_items": null,
      "left": null,
      "margin": null,
      "max_height": null,
      "max_width": null,
      "min_height": null,
      "min_width": null,
      "object_fit": null,
      "object_position": null,
      "order": null,
      "overflow": null,
      "overflow_x": null,
      "overflow_y": null,
      "padding": null,
      "right": null,
      "top": null,
      "visibility": null,
      "width": null
     }
    },
    "0e2b6d4f3ae0467ebec2944d0f14fbf3": {
     "model_module": "@jupyter-widgets/controls",
     "model_name": "ProgressStyleModel",
     "model_module_version": "1.5.0",
     "state": {
      "_model_module": "@jupyter-widgets/controls",
      "_model_module_version": "1.5.0",
      "_model_name": "ProgressStyleModel",
      "_view_count": null,
      "_view_module": "@jupyter-widgets/base",
      "_view_module_version": "1.2.0",
      "_view_name": "StyleView",
      "bar_color": null,
      "description_width": ""
     }
    },
    "d6bcb053d8c444cc8ef3cabe079ec7c8": {
     "model_module": "@jupyter-widgets/base",
     "model_name": "LayoutModel",
     "model_module_version": "1.2.0",
     "state": {
      "_model_module": "@jupyter-widgets/base",
      "_model_module_version": "1.2.0",
      "_model_name": "LayoutModel",
      "_view_count": null,
      "_view_module": "@jupyter-widgets/base",
      "_view_module_version": "1.2.0",
      "_view_name": "LayoutView",
      "align_content": null,
      "align_items": null,
      "align_self": null,
      "border": null,
      "bottom": null,
      "display": null,
      "flex": null,
      "flex_flow": null,
      "grid_area": null,
      "grid_auto_columns": null,
      "grid_auto_flow": null,
      "grid_auto_rows": null,
      "grid_column": null,
      "grid_gap": null,
      "grid_row": null,
      "grid_template_areas": null,
      "grid_template_columns": null,
      "grid_template_rows": null,
      "height": null,
      "justify_content": null,
      "justify_items": null,
      "left": null,
      "margin": null,
      "max_height": null,
      "max_width": null,
      "min_height": null,
      "min_width": null,
      "object_fit": null,
      "object_position": null,
      "order": null,
      "overflow": null,
      "overflow_x": null,
      "overflow_y": null,
      "padding": null,
      "right": null,
      "top": null,
      "visibility": null,
      "width": null
     }
    },
    "58376f2802b0413f8ee1dc8102410168": {
     "model_module": "@jupyter-widgets/controls",
     "model_name": "DescriptionStyleModel",
     "model_module_version": "1.5.0",
     "state": {
      "_model_module": "@jupyter-widgets/controls",
      "_model_module_version": "1.5.0",
      "_model_name": "DescriptionStyleModel",
      "_view_count": null,
      "_view_module": "@jupyter-widgets/base",
      "_view_module_version": "1.2.0",
      "_view_name": "StyleView",
      "description_width": ""
     }
    },
    "ecbb1f56260f4de4a0ec10d5743b612e": {
     "model_module": "@jupyter-widgets/controls",
     "model_name": "HBoxModel",
     "model_module_version": "1.5.0",
     "state": {
      "_dom_classes": [],
      "_model_module": "@jupyter-widgets/controls",
      "_model_module_version": "1.5.0",
      "_model_name": "HBoxModel",
      "_view_count": null,
      "_view_module": "@jupyter-widgets/controls",
      "_view_module_version": "1.5.0",
      "_view_name": "HBoxView",
      "box_style": "",
      "children": [
       "IPY_MODEL_5567d8e9e82b427fa7b8c5a4c1a7a325",
       "IPY_MODEL_ed377c8409e245ff9d7148258bff90cd",
       "IPY_MODEL_5e95212292ee40b3bd5a0afd27023154"
      ],
      "layout": "IPY_MODEL_41c93b338aa24e0f96e5ac518c7b190c"
     }
    },
    "5567d8e9e82b427fa7b8c5a4c1a7a325": {
     "model_module": "@jupyter-widgets/controls",
     "model_name": "HTMLModel",
     "model_module_version": "1.5.0",
     "state": {
      "_dom_classes": [],
      "_model_module": "@jupyter-widgets/controls",
      "_model_module_version": "1.5.0",
      "_model_name": "HTMLModel",
      "_view_count": null,
      "_view_module": "@jupyter-widgets/controls",
      "_view_module_version": "1.5.0",
      "_view_name": "HTMLView",
      "description": "",
      "description_tooltip": null,
      "layout": "IPY_MODEL_d99db953c80745ffbb5c77bda461bda4",
      "placeholder": "​",
      "style": "IPY_MODEL_ae75f86ee3c446319d0d345351048205",
      "value": "100%"
     }
    },
    "ed377c8409e245ff9d7148258bff90cd": {
     "model_module": "@jupyter-widgets/controls",
     "model_name": "FloatProgressModel",
     "model_module_version": "1.5.0",
     "state": {
      "_dom_classes": [],
      "_model_module": "@jupyter-widgets/controls",
      "_model_module_version": "1.5.0",
      "_model_name": "FloatProgressModel",
      "_view_count": null,
      "_view_module": "@jupyter-widgets/controls",
      "_view_module_version": "1.5.0",
      "_view_name": "ProgressView",
      "bar_style": "success",
      "description": "",
      "description_tooltip": null,
      "layout": "IPY_MODEL_8175eb2d894b4f5fb2e03e11f41d4c40",
      "max": 4422102,
      "min": 0,
      "orientation": "horizontal",
      "style": "IPY_MODEL_390509e4c116432b874aeec02969038a",
      "value": 4422102
     }
    },
    "5e95212292ee40b3bd5a0afd27023154": {
     "model_module": "@jupyter-widgets/controls",
     "model_name": "HTMLModel",
     "model_module_version": "1.5.0",
     "state": {
      "_dom_classes": [],
      "_model_module": "@jupyter-widgets/controls",
      "_model_module_version": "1.5.0",
      "_model_name": "HTMLModel",
      "_view_count": null,
      "_view_module": "@jupyter-widgets/controls",
      "_view_module_version": "1.5.0",
      "_view_name": "HTMLView",
      "description": "",
      "description_tooltip": null,
      "layout": "IPY_MODEL_7079ce5bd76b4f0bba7fba1bdfd79ae4",
      "placeholder": "​",
      "style": "IPY_MODEL_7b414a03abe646268f6eab34bca7346d",
      "value": " 4422102/4422102 [00:00&lt;00:00, 8404490.04it/s]"
     }
    },
    "41c93b338aa24e0f96e5ac518c7b190c": {
     "model_module": "@jupyter-widgets/base",
     "model_name": "LayoutModel",
     "model_module_version": "1.2.0",
     "state": {
      "_model_module": "@jupyter-widgets/base",
      "_model_module_version": "1.2.0",
      "_model_name": "LayoutModel",
      "_view_count": null,
      "_view_module": "@jupyter-widgets/base",
      "_view_module_version": "1.2.0",
      "_view_name": "LayoutView",
      "align_content": null,
      "align_items": null,
      "align_self": null,
      "border": null,
      "bottom": null,
      "display": null,
      "flex": null,
      "flex_flow": null,
      "grid_area": null,
      "grid_auto_columns": null,
      "grid_auto_flow": null,
      "grid_auto_rows": null,
      "grid_column": null,
      "grid_gap": null,
      "grid_row": null,
      "grid_template_areas": null,
      "grid_template_columns": null,
      "grid_template_rows": null,
      "height": null,
      "justify_content": null,
      "justify_items": null,
      "left": null,
      "margin": null,
      "max_height": null,
      "max_width": null,
      "min_height": null,
      "min_width": null,
      "object_fit": null,
      "object_position": null,
      "order": null,
      "overflow": null,
      "overflow_x": null,
      "overflow_y": null,
      "padding": null,
      "right": null,
      "top": null,
      "visibility": null,
      "width": null
     }
    },
    "d99db953c80745ffbb5c77bda461bda4": {
     "model_module": "@jupyter-widgets/base",
     "model_name": "LayoutModel",
     "model_module_version": "1.2.0",
     "state": {
      "_model_module": "@jupyter-widgets/base",
      "_model_module_version": "1.2.0",
      "_model_name": "LayoutModel",
      "_view_count": null,
      "_view_module": "@jupyter-widgets/base",
      "_view_module_version": "1.2.0",
      "_view_name": "LayoutView",
      "align_content": null,
      "align_items": null,
      "align_self": null,
      "border": null,
      "bottom": null,
      "display": null,
      "flex": null,
      "flex_flow": null,
      "grid_area": null,
      "grid_auto_columns": null,
      "grid_auto_flow": null,
      "grid_auto_rows": null,
      "grid_column": null,
      "grid_gap": null,
      "grid_row": null,
      "grid_template_areas": null,
      "grid_template_columns": null,
      "grid_template_rows": null,
      "height": null,
      "justify_content": null,
      "justify_items": null,
      "left": null,
      "margin": null,
      "max_height": null,
      "max_width": null,
      "min_height": null,
      "min_width": null,
      "object_fit": null,
      "object_position": null,
      "order": null,
      "overflow": null,
      "overflow_x": null,
      "overflow_y": null,
      "padding": null,
      "right": null,
      "top": null,
      "visibility": null,
      "width": null
     }
    },
    "ae75f86ee3c446319d0d345351048205": {
     "model_module": "@jupyter-widgets/controls",
     "model_name": "DescriptionStyleModel",
     "model_module_version": "1.5.0",
     "state": {
      "_model_module": "@jupyter-widgets/controls",
      "_model_module_version": "1.5.0",
      "_model_name": "DescriptionStyleModel",
      "_view_count": null,
      "_view_module": "@jupyter-widgets/base",
      "_view_module_version": "1.2.0",
      "_view_name": "StyleView",
      "description_width": ""
     }
    },
    "8175eb2d894b4f5fb2e03e11f41d4c40": {
     "model_module": "@jupyter-widgets/base",
     "model_name": "LayoutModel",
     "model_module_version": "1.2.0",
     "state": {
      "_model_module": "@jupyter-widgets/base",
      "_model_module_version": "1.2.0",
      "_model_name": "LayoutModel",
      "_view_count": null,
      "_view_module": "@jupyter-widgets/base",
      "_view_module_version": "1.2.0",
      "_view_name": "LayoutView",
      "align_content": null,
      "align_items": null,
      "align_self": null,
      "border": null,
      "bottom": null,
      "display": null,
      "flex": null,
      "flex_flow": null,
      "grid_area": null,
      "grid_auto_columns": null,
      "grid_auto_flow": null,
      "grid_auto_rows": null,
      "grid_column": null,
      "grid_gap": null,
      "grid_row": null,
      "grid_template_areas": null,
      "grid_template_columns": null,
      "grid_template_rows": null,
      "height": null,
      "justify_content": null,
      "justify_items": null,
      "left": null,
      "margin": null,
      "max_height": null,
      "max_width": null,
      "min_height": null,
      "min_width": null,
      "object_fit": null,
      "object_position": null,
      "order": null,
      "overflow": null,
      "overflow_x": null,
      "overflow_y": null,
      "padding": null,
      "right": null,
      "top": null,
      "visibility": null,
      "width": null
     }
    },
    "390509e4c116432b874aeec02969038a": {
     "model_module": "@jupyter-widgets/controls",
     "model_name": "ProgressStyleModel",
     "model_module_version": "1.5.0",
     "state": {
      "_model_module": "@jupyter-widgets/controls",
      "_model_module_version": "1.5.0",
      "_model_name": "ProgressStyleModel",
      "_view_count": null,
      "_view_module": "@jupyter-widgets/base",
      "_view_module_version": "1.2.0",
      "_view_name": "StyleView",
      "bar_color": null,
      "description_width": ""
     }
    },
    "7079ce5bd76b4f0bba7fba1bdfd79ae4": {
     "model_module": "@jupyter-widgets/base",
     "model_name": "LayoutModel",
     "model_module_version": "1.2.0",
     "state": {
      "_model_module": "@jupyter-widgets/base",
      "_model_module_version": "1.2.0",
      "_model_name": "LayoutModel",
      "_view_count": null,
      "_view_module": "@jupyter-widgets/base",
      "_view_module_version": "1.2.0",
      "_view_name": "LayoutView",
      "align_content": null,
      "align_items": null,
      "align_self": null,
      "border": null,
      "bottom": null,
      "display": null,
      "flex": null,
      "flex_flow": null,
      "grid_area": null,
      "grid_auto_columns": null,
      "grid_auto_flow": null,
      "grid_auto_rows": null,
      "grid_column": null,
      "grid_gap": null,
      "grid_row": null,
      "grid_template_areas": null,
      "grid_template_columns": null,
      "grid_template_rows": null,
      "height": null,
      "justify_content": null,
      "justify_items": null,
      "left": null,
      "margin": null,
      "max_height": null,
      "max_width": null,
      "min_height": null,
      "min_width": null,
      "object_fit": null,
      "object_position": null,
      "order": null,
      "overflow": null,
      "overflow_x": null,
      "overflow_y": null,
      "padding": null,
      "right": null,
      "top": null,
      "visibility": null,
      "width": null
     }
    },
    "7b414a03abe646268f6eab34bca7346d": {
     "model_module": "@jupyter-widgets/controls",
     "model_name": "DescriptionStyleModel",
     "model_module_version": "1.5.0",
     "state": {
      "_model_module": "@jupyter-widgets/controls",
      "_model_module_version": "1.5.0",
      "_model_name": "DescriptionStyleModel",
      "_view_count": null,
      "_view_module": "@jupyter-widgets/base",
      "_view_module_version": "1.2.0",
      "_view_name": "StyleView",
      "description_width": ""
     }
    },
    "3a6e43f9b8bf48f4909f14a7623cec32": {
     "model_module": "@jupyter-widgets/controls",
     "model_name": "HBoxModel",
     "model_module_version": "1.5.0",
     "state": {
      "_dom_classes": [],
      "_model_module": "@jupyter-widgets/controls",
      "_model_module_version": "1.5.0",
      "_model_name": "HBoxModel",
      "_view_count": null,
      "_view_module": "@jupyter-widgets/controls",
      "_view_module_version": "1.5.0",
      "_view_name": "HBoxView",
      "box_style": "",
      "children": [
       "IPY_MODEL_961185cbd713438896ef538a23559ebe",
       "IPY_MODEL_1932d53f9c0845e5a7b746e73fe258fb",
       "IPY_MODEL_9e12437d00434e1c9d5d866e424d60ec"
      ],
      "layout": "IPY_MODEL_e3e19a7056844f89884122768ba8a30b"
     }
    },
    "961185cbd713438896ef538a23559ebe": {
     "model_module": "@jupyter-widgets/controls",
     "model_name": "HTMLModel",
     "model_module_version": "1.5.0",
     "state": {
      "_dom_classes": [],
      "_model_module": "@jupyter-widgets/controls",
      "_model_module_version": "1.5.0",
      "_model_name": "HTMLModel",
      "_view_count": null,
      "_view_module": "@jupyter-widgets/controls",
      "_view_module_version": "1.5.0",
      "_view_name": "HTMLView",
      "description": "",
      "description_tooltip": null,
      "layout": "IPY_MODEL_1db6993866814a9489664c944342d598",
      "placeholder": "​",
      "style": "IPY_MODEL_d42bf24c43864730b34af38edf597255",
      "value": "100%"
     }
    },
    "1932d53f9c0845e5a7b746e73fe258fb": {
     "model_module": "@jupyter-widgets/controls",
     "model_name": "FloatProgressModel",
     "model_module_version": "1.5.0",
     "state": {
      "_dom_classes": [],
      "_model_module": "@jupyter-widgets/controls",
      "_model_module_version": "1.5.0",
      "_model_name": "FloatProgressModel",
      "_view_count": null,
      "_view_module": "@jupyter-widgets/controls",
      "_view_module_version": "1.5.0",
      "_view_name": "ProgressView",
      "bar_style": "success",
      "description": "",
      "description_tooltip": null,
      "layout": "IPY_MODEL_e24de87c5cd74a9fa7550bf8f2e522fc",
      "max": 5148,
      "min": 0,
      "orientation": "horizontal",
      "style": "IPY_MODEL_73f12ca7fe934cad9f62ca03f37bffdd",
      "value": 5148
     }
    },
    "9e12437d00434e1c9d5d866e424d60ec": {
     "model_module": "@jupyter-widgets/controls",
     "model_name": "HTMLModel",
     "model_module_version": "1.5.0",
     "state": {
      "_dom_classes": [],
      "_model_module": "@jupyter-widgets/controls",
      "_model_module_version": "1.5.0",
      "_model_name": "HTMLModel",
      "_view_count": null,
      "_view_module": "@jupyter-widgets/controls",
      "_view_module_version": "1.5.0",
      "_view_name": "HTMLView",
      "description": "",
      "description_tooltip": null,
      "layout": "IPY_MODEL_6131cffa75fd48c0a1147abf2060db63",
      "placeholder": "​",
      "style": "IPY_MODEL_73cb37ba55ed4e6491c4ad76c8199758",
      "value": " 5148/5148 [00:00&lt;00:00, 125198.75it/s]"
     }
    },
    "e3e19a7056844f89884122768ba8a30b": {
     "model_module": "@jupyter-widgets/base",
     "model_name": "LayoutModel",
     "model_module_version": "1.2.0",
     "state": {
      "_model_module": "@jupyter-widgets/base",
      "_model_module_version": "1.2.0",
      "_model_name": "LayoutModel",
      "_view_count": null,
      "_view_module": "@jupyter-widgets/base",
      "_view_module_version": "1.2.0",
      "_view_name": "LayoutView",
      "align_content": null,
      "align_items": null,
      "align_self": null,
      "border": null,
      "bottom": null,
      "display": null,
      "flex": null,
      "flex_flow": null,
      "grid_area": null,
      "grid_auto_columns": null,
      "grid_auto_flow": null,
      "grid_auto_rows": null,
      "grid_column": null,
      "grid_gap": null,
      "grid_row": null,
      "grid_template_areas": null,
      "grid_template_columns": null,
      "grid_template_rows": null,
      "height": null,
      "justify_content": null,
      "justify_items": null,
      "left": null,
      "margin": null,
      "max_height": null,
      "max_width": null,
      "min_height": null,
      "min_width": null,
      "object_fit": null,
      "object_position": null,
      "order": null,
      "overflow": null,
      "overflow_x": null,
      "overflow_y": null,
      "padding": null,
      "right": null,
      "top": null,
      "visibility": null,
      "width": null
     }
    },
    "1db6993866814a9489664c944342d598": {
     "model_module": "@jupyter-widgets/base",
     "model_name": "LayoutModel",
     "model_module_version": "1.2.0",
     "state": {
      "_model_module": "@jupyter-widgets/base",
      "_model_module_version": "1.2.0",
      "_model_name": "LayoutModel",
      "_view_count": null,
      "_view_module": "@jupyter-widgets/base",
      "_view_module_version": "1.2.0",
      "_view_name": "LayoutView",
      "align_content": null,
      "align_items": null,
      "align_self": null,
      "border": null,
      "bottom": null,
      "display": null,
      "flex": null,
      "flex_flow": null,
      "grid_area": null,
      "grid_auto_columns": null,
      "grid_auto_flow": null,
      "grid_auto_rows": null,
      "grid_column": null,
      "grid_gap": null,
      "grid_row": null,
      "grid_template_areas": null,
      "grid_template_columns": null,
      "grid_template_rows": null,
      "height": null,
      "justify_content": null,
      "justify_items": null,
      "left": null,
      "margin": null,
      "max_height": null,
      "max_width": null,
      "min_height": null,
      "min_width": null,
      "object_fit": null,
      "object_position": null,
      "order": null,
      "overflow": null,
      "overflow_x": null,
      "overflow_y": null,
      "padding": null,
      "right": null,
      "top": null,
      "visibility": null,
      "width": null
     }
    },
    "d42bf24c43864730b34af38edf597255": {
     "model_module": "@jupyter-widgets/controls",
     "model_name": "DescriptionStyleModel",
     "model_module_version": "1.5.0",
     "state": {
      "_model_module": "@jupyter-widgets/controls",
      "_model_module_version": "1.5.0",
      "_model_name": "DescriptionStyleModel",
      "_view_count": null,
      "_view_module": "@jupyter-widgets/base",
      "_view_module_version": "1.2.0",
      "_view_name": "StyleView",
      "description_width": ""
     }
    },
    "e24de87c5cd74a9fa7550bf8f2e522fc": {
     "model_module": "@jupyter-widgets/base",
     "model_name": "LayoutModel",
     "model_module_version": "1.2.0",
     "state": {
      "_model_module": "@jupyter-widgets/base",
      "_model_module_version": "1.2.0",
      "_model_name": "LayoutModel",
      "_view_count": null,
      "_view_module": "@jupyter-widgets/base",
      "_view_module_version": "1.2.0",
      "_view_name": "LayoutView",
      "align_content": null,
      "align_items": null,
      "align_self": null,
      "border": null,
      "bottom": null,
      "display": null,
      "flex": null,
      "flex_flow": null,
      "grid_area": null,
      "grid_auto_columns": null,
      "grid_auto_flow": null,
      "grid_auto_rows": null,
      "grid_column": null,
      "grid_gap": null,
      "grid_row": null,
      "grid_template_areas": null,
      "grid_template_columns": null,
      "grid_template_rows": null,
      "height": null,
      "justify_content": null,
      "justify_items": null,
      "left": null,
      "margin": null,
      "max_height": null,
      "max_width": null,
      "min_height": null,
      "min_width": null,
      "object_fit": null,
      "object_position": null,
      "order": null,
      "overflow": null,
      "overflow_x": null,
      "overflow_y": null,
      "padding": null,
      "right": null,
      "top": null,
      "visibility": null,
      "width": null
     }
    },
    "73f12ca7fe934cad9f62ca03f37bffdd": {
     "model_module": "@jupyter-widgets/controls",
     "model_name": "ProgressStyleModel",
     "model_module_version": "1.5.0",
     "state": {
      "_model_module": "@jupyter-widgets/controls",
      "_model_module_version": "1.5.0",
      "_model_name": "ProgressStyleModel",
      "_view_count": null,
      "_view_module": "@jupyter-widgets/base",
      "_view_module_version": "1.2.0",
      "_view_name": "StyleView",
      "bar_color": null,
      "description_width": ""
     }
    },
    "6131cffa75fd48c0a1147abf2060db63": {
     "model_module": "@jupyter-widgets/base",
     "model_name": "LayoutModel",
     "model_module_version": "1.2.0",
     "state": {
      "_model_module": "@jupyter-widgets/base",
      "_model_module_version": "1.2.0",
      "_model_name": "LayoutModel",
      "_view_count": null,
      "_view_module": "@jupyter-widgets/base",
      "_view_module_version": "1.2.0",
      "_view_name": "LayoutView",
      "align_content": null,
      "align_items": null,
      "align_self": null,
      "border": null,
      "bottom": null,
      "display": null,
      "flex": null,
      "flex_flow": null,
      "grid_area": null,
      "grid_auto_columns": null,
      "grid_auto_flow": null,
      "grid_auto_rows": null,
      "grid_column": null,
      "grid_gap": null,
      "grid_row": null,
      "grid_template_areas": null,
      "grid_template_columns": null,
      "grid_template_rows": null,
      "height": null,
      "justify_content": null,
      "justify_items": null,
      "left": null,
      "margin": null,
      "max_height": null,
      "max_width": null,
      "min_height": null,
      "min_width": null,
      "object_fit": null,
      "object_position": null,
      "order": null,
      "overflow": null,
      "overflow_x": null,
      "overflow_y": null,
      "padding": null,
      "right": null,
      "top": null,
      "visibility": null,
      "width": null
     }
    },
    "73cb37ba55ed4e6491c4ad76c8199758": {
     "model_module": "@jupyter-widgets/controls",
     "model_name": "DescriptionStyleModel",
     "model_module_version": "1.5.0",
     "state": {
      "_model_module": "@jupyter-widgets/controls",
      "_model_module_version": "1.5.0",
      "_model_name": "DescriptionStyleModel",
      "_view_count": null,
      "_view_module": "@jupyter-widgets/base",
      "_view_module_version": "1.2.0",
      "_view_name": "StyleView",
      "description_width": ""
     }
    }
   }
  }
 },
 "cells": [
  {
   "cell_type": "markdown",
   "metadata": {
    "id": "rSPCHFaffGF-",
    "pycharm": {
     "name": "#%% md\n"
    }
   },
   "source": [
    "# A Brief Introduction to PyTorch\n",
    "\n",
    "In this tutorial, we try to introduce the key codes and explanation for\n",
    "basic usage of pytorch. \n",
    "\n",
    "1. Tensor manipulation and typical loss calculation\n",
    "1. Autograd\n",
    "1. Optimizer\n",
    "1. Modules\n",
    "1. Datasets and DataLoader\n",
    "1. Train on GPU and parallel on GPU\n",
    "\n",
    "\n",
    "Credits:\n",
    "\n",
    "Most codes are after the [David Bau](https://github.com/davidbau/how-to-read-pytorch), [PyTorch Official Tutorial](https://pytorch.org/tutorials/)\n"
   ]
  },
  {
   "cell_type": "markdown",
   "source": [
    "## Preliminary Knowledge\n",
    "python \n",
    "1. Basic data type\n",
    "2. Basic data structure\n",
    "3. Loop, function and class"
   ],
   "metadata": {
    "id": "anKby6K2aaN6",
    "pycharm": {
     "name": "#%% md\n"
    }
   }
  },
  {
   "cell_type": "markdown",
   "source": [
    "### 1. Basic data types\n"
   ],
   "metadata": {
    "id": "rbRdtAoNc0md",
    "pycharm": {
     "name": "#%% md\n"
    }
   }
  },
  {
   "cell_type": "code",
   "source": [
    "# int\n",
    "int_1 = int(5)\n",
    "int_2 = 5\n",
    "\n",
    "# float\n",
    "float_1 = float(5.5)\n",
    "float_2 = 5.5\n",
    "\n",
    "# string\n",
    "str_1 = \"6.0\"\n",
    "\n",
    "print('int_1:', int_1,'with type ',type(int_1))\n",
    "print('int_2:', int_2,'with type ',type(int_2))\n",
    "print('float_1:', float_1,'with type ',type(float_1))\n",
    "print('float_2:', float_2,'with type ',type(float_2))\n",
    "print('str_1:', str_1,'with type ',type(str_1))"
   ],
   "metadata": {
    "colab": {
     "base_uri": "https://localhost:8080/"
    },
    "id": "BEEXodTcdGT9",
    "outputId": "611de965-66c4-442a-a835-cd617b08b8a9",
    "pycharm": {
     "name": "#%%\n"
    }
   },
   "execution_count": 31,
   "outputs": [
    {
     "output_type": "stream",
     "name": "stdout",
     "text": [
      "int_1: 5 with type  <class 'int'>\n",
      "int_2: 5 with type  <class 'int'>\n",
      "float_1: 5.5 with type  <class 'float'>\n",
      "float_2: 5.5 with type  <class 'float'>\n",
      "str_1: 6.0 with type  <class 'str'>\n"
     ]
    }
   ]
  },
  {
   "cell_type": "markdown",
   "source": [
    "### 2. Basic data structures"
   ],
   "metadata": {
    "id": "K7AZVlFGdG9C",
    "pycharm": {
     "name": "#%% md\n"
    }
   }
  },
  {
   "cell_type": "code",
   "source": [
    "# Three types of basic data structures\n",
    "\n",
    "# Tuple\n",
    "tuple_1 = (1,2,3,4)\n",
    "print(f'tuple_1:\\n {tuple_1}')\n",
    "# tuple_1[0] = 5 # tuple does not support item assignment\n",
    "\n",
    "# List\n",
    "list_1 = [1,2,3,4]\n",
    "print(f'list_1:\\n {list_1}')\n",
    "list_1[0] = 5\n",
    "print(f'list_1 after change:\\n {list_1}')\n",
    "\n",
    "# Dictionary\n",
    "dictionary_1 = {'hello':'world'}\n",
    "print(f'dictionary_1:\\n {dictionary_1}')\n"
   ],
   "metadata": {
    "id": "QP2TuD9Cabjj",
    "colab": {
     "base_uri": "https://localhost:8080/"
    },
    "outputId": "bd2ef70c-9c2c-4d0e-d48c-86b2af592300",
    "pycharm": {
     "name": "#%%\n"
    }
   },
   "execution_count": 32,
   "outputs": [
    {
     "output_type": "stream",
     "name": "stdout",
     "text": [
      "tuple_1:\n",
      " (1, 2, 3, 4)\n",
      "list_1:\n",
      " [1, 2, 3, 4]\n",
      "list_1 after change:\n",
      " [5, 2, 3, 4]\n",
      "dictionary_1:\n",
      " {'hello': 'world'}\n"
     ]
    }
   ]
  },
  {
   "cell_type": "markdown",
   "source": [
    "### 3. Loop, function and class"
   ],
   "metadata": {
    "id": "UNIhz0PDdjh4",
    "pycharm": {
     "name": "#%% md\n"
    }
   }
  },
  {
   "cell_type": "code",
   "source": [
    "# loop\n",
    "for each in range(3):\n",
    "  print('loop:', each)\n",
    "\n",
    "# function\n",
    "def func(args):\n",
    "  print('Hello ', args)\n",
    "  return \"Hi\"\n",
    "rst = func('World')\n",
    "print('Return', rst)\n",
    "\n",
    "# class\n",
    "class Tool(object):\n",
    "  def __init__(self, args=None):\n",
    "    self.args = args\n",
    "  \n",
    "  def fix_problem(self, args=None):\n",
    "    print('Fixing up problems')\n",
    "    print(\"Fixed up problems\")\n",
    "tool = Tool()\n",
    "tool.fix_problem()"
   ],
   "metadata": {
    "colab": {
     "base_uri": "https://localhost:8080/"
    },
    "id": "wHj5Seegdn4o",
    "outputId": "a9c95567-479e-4c80-d988-ee7c2d4efbaf",
    "pycharm": {
     "name": "#%%\n"
    }
   },
   "execution_count": 33,
   "outputs": [
    {
     "output_type": "stream",
     "name": "stdout",
     "text": [
      "loop: 0\n",
      "loop: 1\n",
      "loop: 2\n",
      "Hello  World\n",
      "Return Hi\n",
      "Fixing up problems\n",
      "Fixed up problems\n"
     ]
    }
   ]
  },
  {
   "cell_type": "markdown",
   "metadata": {
    "id": "kHRCslIMgL5k",
    "pycharm": {
     "name": "#%% md\n"
    }
   },
   "source": [
    "## Section 1. Tensor manipulation and typical loss calculation\n",
    "---------------------------------------------------------------\n",
    "* New tensors\n",
    "* Elementwise operations\n",
    "* linear algebra\n",
    "* loss function\n",
    "* Autograd"
   ]
  },
  {
   "cell_type": "markdown",
   "metadata": {
    "id": "y4DtvibvhXCf",
    "pycharm": {
     "name": "#%% md\n"
    }
   },
   "source": [
    "### create torch.tensor\n",
    "\n",
    "A torch.Tensor is a multi-dimensional matrix containing elements of a single data type. Typical data types of element  are torch.float, torch.long. "
   ]
  },
  {
   "cell_type": "code",
   "metadata": {
    "colab": {
     "base_uri": "https://localhost:8080/"
    },
    "id": "rExdVB6SfCKH",
    "outputId": "1275b2fe-a6ff-4348-e83a-3ba759d97596",
    "pycharm": {
     "name": "#%%\n"
    }
   },
   "source": [
    "import torch\n",
    "import numpy as np\n",
    "\n",
    "# from list, numpy array\n",
    "tensor_1 = torch.tensor([[1., -1.], [1., -1.]])\n",
    "tensor_2 = torch.tensor(np.array([[1, 2, 3], [4, 5, 6]]))\n",
    "\n",
    "print('Tensor 1\\n', tensor_1)\n",
    "print('Tensor 2\\n', tensor_2)\n",
    "\n",
    "# ones, eyes, zeros\n",
    "tensor_3 = torch.zeros([2, 4], dtype=torch.int32)  \n",
    "tensor_4 = torch.eye(3)\n",
    "tensor_5 = torch.ones(3)\n",
    "\n",
    "print('Tensor 3\\n', tensor_3)\n",
    "print('Tensor 4\\n', tensor_4)\n",
    "print('Tensor 5\\n', tensor_5)\n",
    "\n",
    "# from existed tensor\n",
    "tensor_6 = torch.clone(tensor_5)\n",
    "print(\"Tensor 6: a copy of tensor 5\\n\", tensor_6)\n",
    " \n",
    "# Make a vector of 101 equally spaced numbers from 0 to 5.\n",
    "x = torch.linspace(0, 5, 101)\n",
    "\n",
    "# Print the first five things in x.\n",
    "print('Create tensor by Linear space\\n',x[:5])"
   ],
   "execution_count": null,
   "outputs": [
    {
     "output_type": "stream",
     "name": "stdout",
     "text": [
      "Tensor 1\n",
      " tensor([[ 1., -1.],\n",
      "        [ 1., -1.]])\n",
      "Tensor 2\n",
      " tensor([[1, 2, 3],\n",
      "        [4, 5, 6]])\n",
      "Tensor 3\n",
      " tensor([[0, 0, 0, 0],\n",
      "        [0, 0, 0, 0]], dtype=torch.int32)\n",
      "Tensor 4\n",
      " tensor([[1., 0., 0.],\n",
      "        [0., 1., 0.],\n",
      "        [0., 0., 1.]])\n",
      "Tensor 5\n",
      " tensor([1., 1., 1.])\n",
      "Tensor 6: a copy of tensor 5\n",
      " tensor([1., 1., 1.])\n",
      "Create tensor by Linear space\n",
      " tensor([0.0000, 0.0500, 0.1000, 0.1500, 0.2000])\n"
     ]
    }
   ]
  },
  {
   "cell_type": "markdown",
   "metadata": {
    "id": "kjZv7EA2onPk",
    "pycharm": {
     "name": "#%% md\n"
    }
   },
   "source": [
    "### Elementwise operations\n",
    "\n",
    "For example, x+y, x*y, x.abs(), x.pow(3)"
   ]
  },
  {
   "cell_type": "code",
   "metadata": {
    "colab": {
     "base_uri": "https://localhost:8080/",
     "height": 354
    },
    "id": "v65st542iB0e",
    "outputId": "c73d19a8-7279-4257-9df0-c6f84fc5ccf0",
    "pycharm": {
     "name": "#%%\n"
    }
   },
   "source": [
    "import matplotlib.pyplot as plt\n",
    "\n",
    "x = torch.linspace(0, 5, 101)\n",
    "#y1, y2 = x.sin(), x ** x.cos()\n",
    "y1,y2 = torch.sin(x), x**torch.cos(x)\n",
    "y3 = y2 - y1\n",
    "y4 = y3.min()\n",
    "\n",
    "# Print and plot some answers.\n",
    "print(f'The shape of x is {x.shape}')\n",
    "print(f'The shape of y1=x.sin() is {y1.shape}')\n",
    "print(f'The shape of y2=x ** x.cos() is {y2.shape}')\n",
    "print(f'The shape of y3=y2 - y1 is {y3.shape}')\n",
    "print(f'The shape of y4=y3.min() is {y4.shape}, a zero-d scalar')\n",
    "\n",
    "plt.plot(x, y1, 'red', x, y2, 'blue', x, y3, 'green')\n",
    "plt.axhline(y4, color='green', linestyle='--')\n",
    "plt.show()"
   ],
   "execution_count": null,
   "outputs": [
    {
     "output_type": "stream",
     "name": "stdout",
     "text": [
      "The shape of x is torch.Size([101])\n",
      "The shape of y1=x.sin() is torch.Size([101])\n",
      "The shape of y2=x ** x.cos() is torch.Size([101])\n",
      "The shape of y3=y2 - y1 is torch.Size([101])\n",
      "The shape of y4=y3.min() is torch.Size([]), a zero-d scalar\n"
     ]
    },
    {
     "output_type": "display_data",
     "data": {
      "text/plain": [
       "<Figure size 432x288 with 1 Axes>"
      ],
      "image/png": "[encoded data removed]"
     },
     "metadata": {
      "needs_background": "light"
     }
    }
   ]
  },
  {
   "cell_type": "markdown",
   "metadata": {
    "id": "HRwrjQzJI-DF",
    "pycharm": {
     "name": "#%% md\n"
    }
   },
   "source": [
    "### linear algebra"
   ]
  },
  {
   "cell_type": "code",
   "metadata": {
    "colab": {
     "base_uri": "https://localhost:8080/"
    },
    "id": "wWNpMQFfJJbf",
    "outputId": "65a41d24-42de-4e49-e7b1-355b2d7e52a3",
    "pycharm": {
     "name": "#%%\n"
    }
   },
   "source": [
    "A = torch.tensor([[1,2],[3,4]])\n",
    "B = torch.tensor([[1,1],[1,1]])\n",
    "x = torch.tensor([1,1])\n",
    "print(A.mm(B))       # matrix multiplication [dim1,dim2], [dim3,dim4]\n",
    "print(A.mv(x))       # matrix-vector multiplication [dim1, dim2], [dim3]\n",
    "print(x.t())         # matrix transpose\n"
   ],
   "execution_count": null,
   "outputs": [
    {
     "output_type": "stream",
     "name": "stdout",
     "text": [
      "tensor([[3, 3],\n",
      "        [7, 7]])\n",
      "tensor([3, 7])\n",
      "tensor([1, 1])\n"
     ]
    }
   ]
  },
  {
   "cell_type": "markdown",
   "source": [
    "### linear Regression with Ordinary Least Square\n",
    "\n",
    "Given $\\mathbf{X}$ and $\\mathbf{Y}$, find a $\\mathbf{w}$ such that  $\\mathbf{Xw}=\\mathbf{Y}$\n",
    "\n",
    "Derivative approach: $$\n",
    "J(\\mathbf{w})=\\frac{1}{N}\\|\\mathbf{Y}-\\mathbf{X} \\mathbf{w}\\|_{2}^{2}\n",
    "$$\n",
    "\n",
    "$$\n",
    "\\nabla J(\\mathbf{w})=\\frac{1}{N}\\left(2 \\mathbf{X}^{\\top} \\mathbf{X} \\mathbf{w}-2 \\mathbf{X}^{\\top} \\mathbf{Y}\\right)\n",
    "$$\n",
    "\n",
    "$$\\nabla J(\\mathbf{w})=0 ⇒ \n",
    "\\hat{\\mathbf{w}}=\\left(\\mathbf{X}^{\\top} \\mathbf{X}\\right)^{-1} \\mathbf{X}^{\\top} \\mathbf{Y}\n",
    "$$"
   ],
   "metadata": {
    "id": "bIwY4WKMnLhH",
    "pycharm": {
     "name": "#%% md\n"
    }
   }
  },
  {
   "cell_type": "code",
   "source": [
    "x = torch.tensor([0, 1, 2, 3])\n",
    "y = torch.tensor([-1, 0.2, 0.9, 2.1])\n",
    "\n",
    "X = torch.stack([x, torch.ones(len(x))]).T # including the constant term\n",
    "y = y.view(-1,1)  # change to a matrix\n",
    "\n",
    "\n",
    "w = torch.inverse(X.T.mm(X)).mm(X.T).mm(y) # OLS calculation\n",
    " \n",
    "y_pred = (X.mm(w)).numpy() # prediction \n",
    "\n",
    "import matplotlib.pyplot as plt\n",
    "plt.plot(x, y, 'o', label='Original data', markersize=10)\n",
    "plt.plot(x, y_pred, 'r', label='Fitted line')\n",
    "plt.legend()\n",
    "plt.show()"
   ],
   "metadata": {
    "colab": {
     "base_uri": "https://localhost:8080/",
     "height": 265
    },
    "id": "oyMqAPt7nWwt",
    "outputId": "f5d79336-6d3e-4f99-c18e-5460add1d339",
    "pycharm": {
     "name": "#%%\n"
    }
   },
   "execution_count": null,
   "outputs": [
    {
     "output_type": "display_data",
     "data": {
      "text/plain": [
       "<Figure size 432x288 with 1 Axes>"
      ],
      "image/png": "[encoded data removed]"
     },
     "metadata": {
      "needs_background": "light"
     }
    }
   ]
  },
  {
   "cell_type": "markdown",
   "source": [
    "#### Solve OLS by numpy"
   ],
   "metadata": {
    "id": "hEDl7leFkK6S",
    "pycharm": {
     "name": "#%% md\n"
    }
   }
  },
  {
   "cell_type": "code",
   "source": [
    "x = np.array([0, 1, 2, 3])\n",
    "y = np.array([-1, 0.2, 0.9, 2.1])\n",
    "\n",
    "A = np.vstack([x, np.ones(len(x))]).T\n",
    "\n",
    "m, c = np.linalg.lstsq(A, y, rcond=None)[0]\n",
    "\n",
    "import matplotlib.pyplot as plt\n",
    "plt.plot(x, y, 'o', label='Original data', markersize=10)\n",
    "plt.plot(x, m*x + c, 'r', label='Fitted line')\n",
    "plt.legend()\n",
    "plt.show()"
   ],
   "metadata": {
    "colab": {
     "base_uri": "https://localhost:8080/",
     "height": 265
    },
    "id": "tgH05AD9kOj1",
    "outputId": "72ec2710-8266-483e-9ec0-b1cb7595e310",
    "pycharm": {
     "name": "#%%\n"
    }
   },
   "execution_count": null,
   "outputs": [
    {
     "output_type": "display_data",
     "data": {
      "text/plain": [
       "<Figure size 432x288 with 1 Axes>"
      ],
      "image/png": "[encoded data removed]"
     },
     "metadata": {
      "needs_background": "light"
     }
    }
   ]
  },
  {
   "cell_type": "markdown",
   "metadata": {
    "id": "Y2sPI9H7Je6C",
    "pycharm": {
     "name": "#%% md\n"
    }
   },
   "source": [
    "### loss function"
   ]
  },
  {
   "cell_type": "code",
   "metadata": {
    "colab": {
     "base_uri": "https://localhost:8080/"
    },
    "id": "Qk6pLSnYJifj",
    "outputId": "70296021-7d68-4b42-c9ba-c74a8f3a6c92",
    "pycharm": {
     "name": "#%%\n"
    }
   },
   "source": [
    "#nn.X                                  # where X is BCELoss, CrossEntropyLoss,\n",
    "                                      # L1Loss, MSELoss, NLLLoss, SoftMarginLoss,\n",
    "                                      # MultiLabelSoftMarginLoss, CosineEmbeddingLoss,\n",
    "                                      # KLDivLoss, MarginRankingLoss, HingeEmbeddingLoss\n",
    "                                      # or CosineEmbeddingLoss\n",
    "x = torch.tensor([[1.,2.],[3.,4.]]) # logits (prepared for softmax, usually is wx)\n",
    "y = torch.tensor([0,1])             # label\n",
    "print(torch.nn.CrossEntropyLoss()(x,y)) # calculate the cross entropy loss \n",
    "# multi-class classification\n",
    "\n",
    "x = torch.tensor([0.2, 0.7])          # value after sigmoid\n",
    "y = torch.tensor([0.,1.])             # label\n",
    "print(torch.nn.BCELoss()(x,y))        # calculate the binary cross entropy loss \n",
    "# binary classification"
   ],
   "execution_count": null,
   "outputs": [
    {
     "output_type": "stream",
     "name": "stdout",
     "text": [
      "tensor(0.8133)\n",
      "tensor(0.2899)\n"
     ]
    }
   ]
  },
  {
   "cell_type": "markdown",
   "metadata": {
    "id": "9KqkOo8b_RRo",
    "pycharm": {
     "name": "#%% md\n"
    }
   },
   "source": [
    "### Autograd\n",
    "--------------------\n",
    "\n",
    "If set 'x.requires_grad=True', pytorch will automatically keep tracking the computational history of the tensors derived from 'x'. Thus, pytorch is able to provide the derivatives of 'x' based on computation. \n",
    "\n",
    "The function `torch.autograd.grad(output_scalar, [list of input_tensors])` computes `d(output_scalar)/d(input_tensor)` for each input tensor component in the list.  For it to work, the input tensors and output must be part of the same `requires_grad=True` compuation.\n",
    "\n",
    "In the example above, `x` is explicitly marked `requires_grad=True`, so `y.sum()`, which is derived from `x`, automatically comes along with the computation history, and can be differentiated."
   ]
  },
  {
   "cell_type": "code",
   "metadata": {
    "colab": {
     "base_uri": "https://localhost:8080/",
     "height": 265
    },
    "id": "oNdoA812-g1l",
    "outputId": "f6436fcf-6336-49c0-a752-7254a9f25e47",
    "pycharm": {
     "name": "#%%\n"
    }
   },
   "source": [
    "import torch\n",
    "from matplotlib import pyplot as plt\n",
    "\n",
    "x = torch.linspace(0, 5, 100, requires_grad=True)\n",
    "y = (x**2).cos()\n",
    "dydx = torch.autograd.grad(y.sum(), [x])[0]\n",
    "\n",
    "plt.plot(x.detach(), y.detach(), label='y')\n",
    "plt.plot(x.detach(), dydx, label='dy/dx')\n",
    "plt.legend()\n",
    "plt.show()"
   ],
   "execution_count": null,
   "outputs": [
    {
     "output_type": "display_data",
     "data": {
      "text/plain": [
       "<Figure size 432x288 with 1 Axes>"
      ],
      "image/png": "[encoded data removed]"
     },
     "metadata": {
      "needs_background": "light"
     }
    }
   ]
  },
  {
   "cell_type": "markdown",
   "metadata": {
    "id": "Sfh6_wGA_YRy",
    "pycharm": {
     "name": "#%% md\n"
    }
   },
   "source": [
    "#### Backprop and In-place gradients\n",
    "-------------------------------\n",
    "\n",
    "Typical way to obtain the gradient is via `backward()`.\n",
    "\n",
    "**Using `backward()` to add `.grad` attributes.** To simplify this common operation, pytorch provides the `y.backward()` method, which computes the gradients of y with respect to every tracked dependency, and stores the results in the field `x.grad` for every original input vector `x` that was marked as `requires_grad=True`."
   ]
  },
  {
   "cell_type": "code",
   "metadata": {
    "colab": {
     "base_uri": "https://localhost:8080/",
     "height": 622
    },
    "id": "bInXJe2DppvJ",
    "outputId": "847eea21-aa6d-4072-d30a-162e75004a0e",
    "pycharm": {
     "name": "#%%\n"
    }
   },
   "source": [
    "x = torch.linspace(0, 5, 100, requires_grad=True)\n",
    "y = (x**2).cos()\n",
    "y.sum().backward()   # populates the grad attribute below.\n",
    "print(x.grad)\n",
    "\n",
    "plt.plot(x.detach(), y.detach(), label='y')\n",
    "plt.plot(x.detach(), x.grad, label='dy/dx')\n",
    "plt.legend()\n",
    "plt.show()"
   ],
   "execution_count": null,
   "outputs": [
    {
     "output_type": "stream",
     "name": "stdout",
     "text": [
      "tensor([-0.0000e+00, -2.5765e-04, -2.0612e-03, -6.9560e-03, -1.6485e-02,\n",
      "        -3.2185e-02, -5.5575e-02, -8.8145e-02, -1.3133e-01, -1.8650e-01,\n",
      "        -2.5487e-01, -3.3752e-01, -4.3528e-01, -5.4869e-01, -6.7791e-01,\n",
      "        -8.2262e-01, -9.8193e-01, -1.1543e+00, -1.3373e+00, -1.5279e+00,\n",
      "        -1.7218e+00, -1.9138e+00, -2.0978e+00, -2.2665e+00, -2.4118e+00,\n",
      "        -2.5246e+00, -2.5954e+00, -2.6144e+00, -2.5720e+00, -2.4592e+00,\n",
      "        -2.2684e+00, -1.9940e+00, -1.6330e+00, -1.1861e+00, -6.5843e-01,\n",
      "        -5.9786e-02,  5.9438e-01,  1.2829e+00,  1.9791e+00,  2.6508e+00,\n",
      "         3.2620e+00,  3.7737e+00,  4.1467e+00,  4.3434e+00,  4.3315e+00,\n",
      "         4.0872e+00,  3.5983e+00,  2.8676e+00,  1.9159e+00,  7.8273e-01,\n",
      "        -4.7262e-01, -1.7729e+00, -3.0265e+00, -4.1327e+00, -4.9894e+00,\n",
      "        -5.5028e+00, -5.5970e+00, -5.2252e+00, -4.3782e+00, -3.0925e+00,\n",
      "        -1.4526e+00,  4.1007e-01,  2.3249e+00,  4.0956e+00,  5.5192e+00,\n",
      "         6.4094e+00,  6.6222e+00,  6.0798e+00,  4.7897e+00,  2.8560e+00,\n",
      "         4.7794e-01, -2.0646e+00, -4.4405e+00, -6.3087e+00, -7.3680e+00,\n",
      "        -7.4080e+00, -6.3531e+00, -4.2917e+00, -1.4813e+00,  1.6739e+00,\n",
      "         4.6748e+00,  7.0040e+00,  8.2157e+00,  8.0255e+00,  6.3823e+00,\n",
      "         3.5034e+00, -1.3781e-01, -3.8789e+00, -6.9824e+00, -8.7814e+00,\n",
      "        -8.8286e+00, -7.0156e+00, -3.6318e+00,  6.6059e-01,  4.9416e+00,\n",
      "         8.2239e+00,  9.6828e+00,  8.8724e+00,  5.8738e+00,  1.3235e+00])\n"
     ]
    },
    {
     "output_type": "display_data",
     "data": {
      "text/plain": [
       "<Figure size 432x288 with 1 Axes>"
      ],
      "image/png": "[encoded data removed]"
     },
     "metadata": {
      "needs_background": "light"
     }
    }
   ]
  },
  {
   "cell_type": "markdown",
   "metadata": {
    "id": "RH5uRTKpOGIh",
    "pycharm": {
     "name": "#%% md\n"
    }
   },
   "source": [
    "## Section 2. Optimizer\n",
    "-----------\n"
   ]
  },
  {
   "cell_type": "code",
   "metadata": {
    "colab": {
     "base_uri": "https://localhost:8080/",
     "height": 350
    },
    "id": "vMxfsdQh__To",
    "outputId": "920301a7-be3d-4a54-a62b-67e9f740d740",
    "cellView": "code",
    "pycharm": {
     "name": "#%%\n"
    }
   },
   "source": [
    "import torch\n",
    "\n",
    "#@title Run this cell to setup visualization...\n",
    "# This cell defines plot_progress() which plots an optimization trace.\n",
    "\n",
    "import matplotlib\n",
    "from matplotlib import pyplot as plt\n",
    "\n",
    "# This function is to facilitate the plot, just skip it.\n",
    "def plot_progress(bowl, track, losses):\n",
    "    # Draw the contours of the objective function, and x, and y\n",
    "    fig, (ax1, ax2) = plt.subplots(1,2, figsize=(12, 5))\n",
    "    for size in torch.linspace(0.1, 1.0, 10):\n",
    "        angle = torch.linspace(0, 6.3, 100)\n",
    "        circle = torch.stack([angle.sin(), angle.cos()])\n",
    "        ellipse = torch.mm(torch.inverse(bowl), circle) * size\n",
    "        ax1.plot(ellipse[0,:], ellipse[1,:], color='skyblue')\n",
    "    track = torch.stack(track).t()\n",
    "    ax1.set_title('progress of x')\n",
    "    ax1.plot(track[0,:], track[1,:], marker='o')\n",
    "    ax1.set_ylim(-1, 1)\n",
    "    ax1.set_xlim(-1.6, 1.6)\n",
    "    ax1.set_ylabel('x[1]')\n",
    "    ax1.set_xlabel('x[0]')\n",
    "    ax2.set_title('progress of y')\n",
    "    ax2.xaxis.set_major_locator(matplotlib.ticker.MaxNLocator(integer=True))\n",
    "    ax2.plot(range(len(losses)), losses, marker='o')\n",
    "    ax2.set_ylabel('objective')\n",
    "    ax2.set_xlabel('iteration')\n",
    "    fig.show()\n",
    "\n",
    "x_init = torch.randn(2)\n",
    "x = x_init.clone()\n",
    "x.requires_grad = True\n",
    "optimizer = torch.optim.SGD([x], lr=0.1, momentum=0.5)\n",
    "\n",
    "bowl = torch.tensor([[ 0.4410, -1.0317], [-0.2844, -0.1035]])\n",
    "track, losses = [], []\n",
    "\n",
    "for iter in range(50):\n",
    "    objective = torch.mm(bowl, x[:,None]).norm()   # calculate the loss\n",
    "    optimizer.zero_grad()           # zero_grad : make the grad to 0\n",
    "    objective.backward()            # backward: back propagation, new - grad\n",
    "    optimizer.step()                # step : gradient, x = x - lr*x.grad\n",
    "    \n",
    "    track.append(x.detach().clone())\n",
    "    losses.append(objective.detach())\n",
    "    \n",
    "plot_progress(bowl, track, losses)"
   ],
   "execution_count": null,
   "outputs": [
    {
     "output_type": "display_data",
     "data": {
      "text/plain": [
       "<Figure size 864x360 with 2 Axes>"
      ],
      "image/png": "[encoded data removed]"
     },
     "metadata": {
      "needs_background": "light"
     }
    }
   ]
  },
  {
   "cell_type": "code",
   "metadata": {
    "colab": {
     "base_uri": "https://localhost:8080/",
     "height": 350
    },
    "id": "x-tLIL9EBBUo",
    "outputId": "80a3de88-7ba6-4770-9a36-656f2edbec3e",
    "pycharm": {
     "name": "#%%\n"
    }
   },
   "source": [
    "# The code below uses Adam\n",
    "x = x_init.clone()\n",
    "x.requires_grad = True\n",
    "optimizer = torch.optim.Adam([x], lr=0.1)\n",
    "\n",
    "track, losses = [], []\n",
    "\n",
    "for iter in range(50):\n",
    "    objective = torch.mm(bowl, x[:,None]).norm()\n",
    "    optimizer.zero_grad()\n",
    "    objective.backward()\n",
    "    optimizer.step()\n",
    "    track.append(x.detach().clone())\n",
    "    losses.append(objective.detach())\n",
    "    \n",
    "plot_progress(bowl, track, losses)"
   ],
   "execution_count": null,
   "outputs": [
    {
     "output_type": "display_data",
     "data": {
      "text/plain": [
       "<Figure size 864x360 with 2 Axes>"
      ],
      "image/png": "[encoded data removed]"
     },
     "metadata": {
      "needs_background": "light"
     }
    }
   ]
  },
  {
   "cell_type": "markdown",
   "metadata": {
    "id": "sthhFng0DJxu",
    "pycharm": {
     "name": "#%% md\n"
    }
   },
   "source": [
    "## Section 3. Modules\n",
    "----------------------------\n",
    "\n",
    "The linear layer is a good starting example: it is the fundmental workhorse of all neural networks, so as simple as it is, it is worth examining carefully.\n",
    "\n",
    "`torch.nn.Linear` implements the function `y = Ax + b`, which takes m-dimensional input `x` and produces n-dimensional output `y`, by multiplying by the n &times; m matrix `A` (whose specific values are called the `weight`) and adding n-dimensional vector `b` (whose values are called the `bias`).  We can make a Linear network with 3d input and 2d output just like this:\n"
   ]
  },
  {
   "cell_type": "code",
   "metadata": {
    "colab": {
     "base_uri": "https://localhost:8080/"
    },
    "id": "jLMk6ES2B_qC",
    "outputId": "8c29bcdf-8adc-4cc2-8b15-fa6c1149f1f6",
    "pycharm": {
     "name": "#%%\n"
    }
   },
   "source": [
    "import torch\n",
    "net = torch.nn.Linear(3, 2)\n",
    "print(net)"
   ],
   "execution_count": null,
   "outputs": [
    {
     "output_type": "stream",
     "name": "stdout",
     "text": [
      "Linear(in_features=3, out_features=2, bias=True)\n"
     ]
    }
   ]
  },
  {
   "cell_type": "code",
   "metadata": {
    "colab": {
     "base_uri": "https://localhost:8080/"
    },
    "id": "qNc3NaSlCBTh",
    "outputId": "16cac14d-c47b-4315-f5ba-35cd22f4cc9e",
    "pycharm": {
     "name": "#%%\n"
    }
   },
   "source": [
    "net(torch.tensor([[1.0, 0.0, 0.0]]))"
   ],
   "execution_count": null,
   "outputs": [
    {
     "output_type": "execute_result",
     "data": {
      "text/plain": [
       "tensor([[0.9164, 0.3649]], grad_fn=<AddmmBackward0>)"
      ]
     },
     "metadata": {},
     "execution_count": 13
    }
   ]
  },
  {
   "cell_type": "code",
   "metadata": {
    "colab": {
     "base_uri": "https://localhost:8080/"
    },
    "id": "jk9zr4yNDQMM",
    "outputId": "614c8b23-59c0-4dfe-a724-5db0fa016808",
    "pycharm": {
     "name": "#%%\n"
    }
   },
   "source": [
    "x_batch = torch.tensor([\n",
    "    [1.0, 0. , 0. ],\n",
    "    [0. , 1.0, 0. ],\n",
    "    [0. , 0. , 1.0],\n",
    "    [0. , 0. , 0. ],\n",
    "])\n",
    "net(x_batch)"
   ],
   "execution_count": null,
   "outputs": [
    {
     "output_type": "execute_result",
     "data": {
      "text/plain": [
       "tensor([[0.9164, 0.3649],\n",
       "        [0.3395, 0.7060],\n",
       "        [0.5322, 0.0792],\n",
       "        [0.5022, 0.5244]], grad_fn=<AddmmBackward0>)"
      ]
     },
     "metadata": {},
     "execution_count": 14
    }
   ]
  },
  {
   "cell_type": "code",
   "metadata": {
    "colab": {
     "base_uri": "https://localhost:8080/"
    },
    "id": "UIzHt-oHDTth",
    "outputId": "e3e029f0-389b-41ca-db71-cb521ce6d5b2",
    "pycharm": {
     "name": "#%%\n"
    }
   },
   "source": [
    "print('weight is', net.weight)\n",
    "print('bias is', net.bias)"
   ],
   "execution_count": null,
   "outputs": [
    {
     "output_type": "stream",
     "name": "stdout",
     "text": [
      "weight is Parameter containing:\n",
      "tensor([[ 0.4142, -0.1627,  0.0300],\n",
      "        [-0.1595,  0.1816, -0.4453]], requires_grad=True)\n",
      "bias is Parameter containing:\n",
      "tensor([0.5022, 0.5244], requires_grad=True)\n"
     ]
    }
   ]
  },
  {
   "cell_type": "code",
   "metadata": {
    "colab": {
     "base_uri": "https://localhost:8080/"
    },
    "id": "WedmD6tdDZCn",
    "outputId": "69cd3f2c-5d0d-470f-c061-f1c464b3230f",
    "pycharm": {
     "name": "#%%\n"
    }
   },
   "source": [
    "for name, param in net.named_parameters():\n",
    "    print(f'{name} = {param}\\n')"
   ],
   "execution_count": null,
   "outputs": [
    {
     "output_type": "stream",
     "name": "stdout",
     "text": [
      "weight = Parameter containing:\n",
      "tensor([[ 0.4142, -0.1627,  0.0300],\n",
      "        [-0.1595,  0.1816, -0.4453]], requires_grad=True)\n",
      "\n",
      "bias = Parameter containing:\n",
      "tensor([0.5022, 0.5244], requires_grad=True)\n",
      "\n"
     ]
    }
   ]
  },
  {
   "cell_type": "code",
   "metadata": {
    "colab": {
     "base_uri": "https://localhost:8080/"
    },
    "id": "w_l5B8YTDaJL",
    "outputId": "a1fc60de-3c42-45be-b0b1-30d020d0f61f",
    "pycharm": {
     "name": "#%%\n"
    }
   },
   "source": [
    "for k, v in net.state_dict().items():\n",
    "    print(f'{k}: {v.type()}{tuple(v.shape)}')\n",
    "\n",
    "import os\n",
    "os.makedirs('checkpoints', exist_ok=True)\n",
    "torch.save(net.state_dict(), 'checkpoints/linear.pth')"
   ],
   "execution_count": null,
   "outputs": [
    {
     "output_type": "stream",
     "name": "stdout",
     "text": [
      "weight: torch.FloatTensor(2, 3)\n",
      "bias: torch.FloatTensor(2,)\n"
     ]
    }
   ]
  },
  {
   "cell_type": "code",
   "metadata": {
    "colab": {
     "base_uri": "https://localhost:8080/"
    },
    "id": "JyUylORLDc_p",
    "outputId": "ed8791f8-859d-48ee-bb06-56251517614f",
    "pycharm": {
     "name": "#%%\n"
    }
   },
   "source": [
    "# Then later, to remember the state\n",
    "net.load_state_dict(torch.load('checkpoints/linear.pth'))"
   ],
   "execution_count": null,
   "outputs": [
    {
     "output_type": "execute_result",
     "data": {
      "text/plain": [
       "<All keys matched successfully>"
      ]
     },
     "metadata": {},
     "execution_count": 18
    }
   ]
  },
  {
   "cell_type": "code",
   "metadata": {
    "colab": {
     "base_uri": "https://localhost:8080/"
    },
    "id": "9UqYjCieDfA2",
    "outputId": "70db3e94-d010-4f06-f080-55c274dfc250",
    "pycharm": {
     "name": "#%%\n"
    }
   },
   "source": [
    "y_batch = net(x_batch)\n",
    "loss = ((y_batch - torch.tensor([[1.0, 1.0]])) ** 2).sum(1).mean()\n",
    "print(f'loss is {loss}')"
   ],
   "execution_count": null,
   "outputs": [
    {
     "output_type": "stream",
     "name": "stdout",
     "text": [
      "loss is 0.6184588670730591\n"
     ]
    }
   ]
  },
  {
   "cell_type": "code",
   "metadata": {
    "colab": {
     "base_uri": "https://localhost:8080/"
    },
    "id": "3JRMpp9JDk8S",
    "outputId": "1219f0a2-aecc-44bc-d5ea-cfbce814e8eb",
    "pycharm": {
     "name": "#%%\n"
    }
   },
   "source": [
    "loss.backward()\n",
    "print(f'weight is {net.weight} and grad is:\\n{net.weight.grad}\\n')\n",
    "print(f'bias is {net.bias} and grad is:\\n{net.bias.grad}\\n')"
   ],
   "execution_count": null,
   "outputs": [
    {
     "output_type": "stream",
     "name": "stdout",
     "text": [
      "weight is Parameter containing:\n",
      "tensor([[ 0.4142, -0.1627,  0.0300],\n",
      "        [-0.1595,  0.1816, -0.4453]], requires_grad=True) and grad is:\n",
      "tensor([[-0.0418, -0.3303, -0.2339],\n",
      "        [-0.3176, -0.1470, -0.4604]])\n",
      "\n",
      "bias is Parameter containing:\n",
      "tensor([0.5022, 0.5244], requires_grad=True) and grad is:\n",
      "tensor([-0.8549, -1.1627])\n",
      "\n"
     ]
    }
   ]
  },
  {
   "cell_type": "code",
   "metadata": {
    "colab": {
     "base_uri": "https://localhost:8080/",
     "height": 422
    },
    "id": "C5lgNGwtDlls",
    "outputId": "019ab535-4204-48fc-b54d-659da08ad679",
    "pycharm": {
     "name": "#%%\n"
    }
   },
   "source": [
    "net = torch.nn.Linear(3, 2)\n",
    "log = []\n",
    "optimizer = torch.optim.SGD(net.parameters(), lr=0.001, momentum=0.5)\n",
    "for _ in range(10000):\n",
    "    y_batch = net(x_batch)\n",
    "    loss = ((y_batch - torch.tensor([[1.0, 1.0]])) ** 2).sum(1).mean() # loss\n",
    "    log.append(loss.item())\n",
    "    \n",
    "    optimizer.zero_grad() # zero_grad\n",
    "    loss.backward()       # back propagation\n",
    "    optimizer.step()      # update parameters\n",
    "    \n",
    "    # if without using optimizer\n",
    "    # net.zero_grad()\n",
    "    # loss.backward()\n",
    "    # with torch.no_grad():\n",
    "    #     for p in net.parameters():\n",
    "    #         p -= 0.01 * p.grad\n",
    "print(f'weight is {net.weight}\\n')\n",
    "print(f'bias is {net.bias}\\n')\n",
    "\n",
    "%matplotlib inline\n",
    "import matplotlib.pyplot as plt\n",
    "plt.ylabel('loss')\n",
    "plt.xlabel('iteration')\n",
    "plt.plot(log)"
   ],
   "execution_count": null,
   "outputs": [
    {
     "output_type": "stream",
     "name": "stdout",
     "text": [
      "weight is Parameter containing:\n",
      "tensor([[0.0094, 0.0094, 0.0094],\n",
      "        [0.0314, 0.0314, 0.0314]], requires_grad=True)\n",
      "\n",
      "bias is Parameter containing:\n",
      "tensor([0.9926, 0.9752], requires_grad=True)\n",
      "\n"
     ]
    },
    {
     "output_type": "execute_result",
     "data": {
      "text/plain": [
       "[<matplotlib.lines.Line2D at 0x7fefd548ab50>]"
      ]
     },
     "metadata": {},
     "execution_count": 21
    },
    {
     "output_type": "display_data",
     "data": {
      "text/plain": [
       "<Figure size 432x288 with 1 Axes>"
      ],
      "image/png": "[encoded data removed]"
     },
     "metadata": {
      "needs_background": "light"
     }
    }
   ]
  },
  {
   "cell_type": "markdown",
   "metadata": {
    "id": "TXK-ipm_jF6_",
    "pycharm": {
     "name": "#%% md\n"
    }
   },
   "source": [
    "### Self defined Module\n",
    "--------------------\n"
   ]
  },
  {
   "cell_type": "code",
   "metadata": {
    "colab": {
     "base_uri": "https://localhost:8080/"
    },
    "id": "BrX-a-A_jBKz",
    "outputId": "ad61bbc4-ba83-4543-fbbd-f3bcd6fc574a",
    "pycharm": {
     "name": "#%%\n"
    }
   },
   "source": [
    "class TwoLayerNet(torch.nn.Module):\n",
    "    def __init__(self, D_in, H, D_out):\n",
    "        \"\"\"\n",
    "        In the constructor we instantiate two nn.Linear modules and assign them as\n",
    "        member variables.\n",
    "        \"\"\"\n",
    "        super(TwoLayerNet, self).__init__()   # initialize by parent class \n",
    "        self.linear1 = torch.nn.Linear(D_in, H)\n",
    "        self.linear2 = torch.nn.Linear(H, D_out)\n",
    "\n",
    "    def forward(self, x):\n",
    "        \"\"\"\n",
    "        In the forward function we accept a Tensor of input data and we must return\n",
    "        a Tensor of output data. We can use Modules defined in the constructor as\n",
    "        well as arbitrary operators on Tensors.\n",
    "        \"\"\"\n",
    "        h_relu = self.linear1(x).clamp(min=0) # ReLu\n",
    "        y_pred = self.linear2(h_relu)\n",
    "        return y_pred\n",
    "\n",
    "\n",
    "# N is batch size; D_in is input dimension;\n",
    "# H is hidden dimension; D_out is output dimension.\n",
    "N, D_in, H, D_out = 64, 1000, 100, 10\n",
    "\n",
    "# Create random Tensors to hold inputs and outputs\n",
    "x = torch.randn(N, D_in)\n",
    "y = torch.randn(N, D_out)\n",
    "\n",
    "# Construct our model by instantiating the class defined above\n",
    "model = TwoLayerNet(D_in, H, D_out)\n",
    "\n",
    "# Construct our loss function and an Optimizer. The call to model.parameters()\n",
    "# in the SGD constructor will contain the learnable parameters of the two\n",
    "# nn.Linear modules which are members of the model.\n",
    "criterion = torch.nn.MSELoss(reduction='sum')\n",
    "optimizer = torch.optim.SGD(model.parameters(), lr=1e-4)\n",
    "for t in range(500):\n",
    "    # Forward pass: Compute predicted y by passing x to the model\n",
    "    y_pred = model(x)   # same usage as linear \n",
    "\n",
    "    # Compute and print loss\n",
    "    loss = criterion(y_pred, y)    # loss\n",
    "    if t % 100 == 99:\n",
    "        print(t, loss.item())\n",
    "\n",
    "    # Zero gradients, perform a backward pass, and update the weights.\n",
    "    optimizer.zero_grad()    # zero-grad\n",
    "    loss.backward()          # back propagation\n",
    "    optimizer.step()         # update  "
   ],
   "execution_count": null,
   "outputs": [
    {
     "output_type": "stream",
     "name": "stdout",
     "text": [
      "99 1.685684084892273\n",
      "199 0.028395960107445717\n",
      "299 0.0011252884287387133\n",
      "399 5.7154542446369305e-05\n",
      "499 3.3085982522607083e-06\n"
     ]
    }
   ]
  },
  {
   "cell_type": "markdown",
   "metadata": {
    "id": "4iY4qSWkPvJP",
    "pycharm": {
     "name": "#%% md\n"
    }
   },
   "source": [
    "## Section 4. Datasets and DataLoader"
   ]
  },
  {
   "cell_type": "code",
   "metadata": {
    "colab": {
     "base_uri": "https://localhost:8080/"
    },
    "id": "AK5E2FoxkTju",
    "outputId": "02ea987f-b494-4256-acc6-01ade0ee4eb0",
    "pycharm": {
     "name": "#%%\n"
    }
   },
   "source": [
    "# The simplest way to leverage Dataset and DataLoader\n",
    "import torch\n",
    "a = torch.randn(10,2)                        # feature\n",
    "b = torch.randn(10,1)                        # target \n",
    "dataset_ = torch.utils.data.TensorDataset(a,b) # Construct the dataset\n",
    "loader_ = torch.utils.data.DataLoader(dataset_,\n",
    "                                      batch_size = 5) # Construct loader\n",
    "# Check what's inside\n",
    "for input, target in loader_:\n",
    "  print('input',input,'\\n target',target)\n",
    "  print('-'*40)\n"
   ],
   "execution_count": null,
   "outputs": [
    {
     "output_type": "stream",
     "name": "stdout",
     "text": [
      "input tensor([[-0.2659, -0.9430],\n",
      "        [ 0.4050,  1.2433],\n",
      "        [-0.0928, -0.2921],\n",
      "        [ 0.9398, -0.0263],\n",
      "        [-0.1102, -1.1081]]) \n",
      " target tensor([[ 0.6701],\n",
      "        [-0.3583],\n",
      "        [ 0.4460],\n",
      "        [ 0.9882],\n",
      "        [-1.6255]])\n",
      "----------------------------------------\n",
      "input tensor([[-1.0947, -0.3715],\n",
      "        [-1.4599, -0.7057],\n",
      "        [-0.6704, -0.7211],\n",
      "        [-0.5032,  0.9405],\n",
      "        [ 0.5572,  1.2471]]) \n",
      " target tensor([[-0.8898],\n",
      "        [-0.4956],\n",
      "        [-0.9938],\n",
      "        [ 0.3992],\n",
      "        [ 1.7208]])\n",
      "----------------------------------------\n"
     ]
    }
   ]
  },
  {
   "cell_type": "code",
   "metadata": {
    "colab": {
     "base_uri": "https://localhost:8080/",
     "height": 449,
     "referenced_widgets": [
      "5e776520b1214c9d9308dc0de041a0b3",
      "c9e015be784949618fdcd15398555a51",
      "14588262e3634ead8bf85186a1dbde6c",
      "f0630a0014fe4811abcadbf38bf5ca6e",
      "1ed9b9420c214c738917f0331d4889c0",
      "3a20c0cfbbb947389824b06fbf5e884b",
      "28e0d62c78f84d5385bfd9a182dd4897",
      "99871b417a97416692496558383d746e",
      "aa3c765135f642a19dcbee78be3c5814",
      "28bd50f707334e2ab73f121600bfad5e",
      "b64a2ac071424a1ba0fdf75b702d8a90",
      "a2a263082faa4b3797904be5d55374d7",
      "9618c17e5a064324b971f67ac8d20a0c",
      "3c066691b606417a941d6e6bf6af06fc",
      "a3a82c786eaa4d7799a640efad6e5c55",
      "f3e7b8287b424445b5e7ac1e23c7fc42",
      "17eab947e915417f999a23cf83b2e62a",
      "bbd9c3c3d26a4971961ec4d5b84f046f",
      "6d3e5ccf2ca944e3a2b6e96aaed94a9e",
      "0e2b6d4f3ae0467ebec2944d0f14fbf3",
      "d6bcb053d8c444cc8ef3cabe079ec7c8",
      "58376f2802b0413f8ee1dc8102410168",
      "ecbb1f56260f4de4a0ec10d5743b612e",
      "5567d8e9e82b427fa7b8c5a4c1a7a325",
      "ed377c8409e245ff9d7148258bff90cd",
      "5e95212292ee40b3bd5a0afd27023154",
      "41c93b338aa24e0f96e5ac518c7b190c",
      "d99db953c80745ffbb5c77bda461bda4",
      "ae75f86ee3c446319d0d345351048205",
      "8175eb2d894b4f5fb2e03e11f41d4c40",
      "390509e4c116432b874aeec02969038a",
      "7079ce5bd76b4f0bba7fba1bdfd79ae4",
      "7b414a03abe646268f6eab34bca7346d",
      "3a6e43f9b8bf48f4909f14a7623cec32",
      "961185cbd713438896ef538a23559ebe",
      "1932d53f9c0845e5a7b746e73fe258fb",
      "9e12437d00434e1c9d5d866e424d60ec",
      "e3e19a7056844f89884122768ba8a30b",
      "1db6993866814a9489664c944342d598",
      "d42bf24c43864730b34af38edf597255",
      "e24de87c5cd74a9fa7550bf8f2e522fc",
      "73f12ca7fe934cad9f62ca03f37bffdd",
      "6131cffa75fd48c0a1147abf2060db63",
      "73cb37ba55ed4e6491c4ad76c8199758"
     ]
    },
    "id": "jb7ZZHyQFYdn",
    "outputId": "9d552fdb-4ad7-40ec-f331-185234471455",
    "pycharm": {
     "name": "#%%\n"
    }
   },
   "source": [
    "import torch\n",
    "import torch.nn as nn\n",
    "from torch.autograd import Variable\n",
    "import torch.utils.data as Data\n",
    "import torchvision\n",
    "import matplotlib.pyplot as plt\n",
    "print(torch.__version__)\n",
    "EPOCH = 1\n",
    "BATCH_SIZE = 50\n",
    "LR = 0.001\n",
    "DOWNLOAD_MNIST = True\n",
    "train_data = torchvision.datasets.FashionMNIST(\n",
    "    root = 'data/',\n",
    "    train = True,\n",
    "    transform=torchvision.transforms.ToTensor(), #to tensor\n",
    "    download=DOWNLOAD_MNIST,\n",
    ")\n",
    "train_loader = Data.DataLoader(train_data,\n",
    "                               batch_size = BATCH_SIZE)"
   ],
   "execution_count": null,
   "outputs": [
    {
     "output_type": "stream",
     "name": "stdout",
     "text": [
      "1.12.1+cu113\n",
      "Downloading http://fashion-mnist.s3-website.eu-central-1.amazonaws.com/train-images-idx3-ubyte.gz\n",
      "Downloading http://fashion-mnist.s3-website.eu-central-1.amazonaws.com/train-images-idx3-ubyte.gz to data/FashionMNIST/raw/train-images-idx3-ubyte.gz\n"
     ]
    },
    {
     "output_type": "display_data",
     "data": {
      "text/plain": [
       "  0%|          | 0/26421880 [00:00<?, ?it/s]"
      ],
      "application/vnd.jupyter.widget-view+json": {
       "version_major": 2,
       "version_minor": 0,
       "model_id": "5e776520b1214c9d9308dc0de041a0b3"
      }
     },
     "metadata": {}
    },
    {
     "output_type": "stream",
     "name": "stdout",
     "text": [
      "Extracting data/FashionMNIST/raw/train-images-idx3-ubyte.gz to data/FashionMNIST/raw\n",
      "\n",
      "Downloading http://fashion-mnist.s3-website.eu-central-1.amazonaws.com/train-labels-idx1-ubyte.gz\n",
      "Downloading http://fashion-mnist.s3-website.eu-central-1.amazonaws.com/train-labels-idx1-ubyte.gz to data/FashionMNIST/raw/train-labels-idx1-ubyte.gz\n"
     ]
    },
    {
     "output_type": "display_data",
     "data": {
      "text/plain": [
       "  0%|          | 0/29515 [00:00<?, ?it/s]"
      ],
      "application/vnd.jupyter.widget-view+json": {
       "version_major": 2,
       "version_minor": 0,
       "model_id": "a2a263082faa4b3797904be5d55374d7"
      }
     },
     "metadata": {}
    },
    {
     "output_type": "stream",
     "name": "stdout",
     "text": [
      "Extracting data/FashionMNIST/raw/train-labels-idx1-ubyte.gz to data/FashionMNIST/raw\n",
      "\n",
      "Downloading http://fashion-mnist.s3-website.eu-central-1.amazonaws.com/t10k-images-idx3-ubyte.gz\n",
      "Downloading http://fashion-mnist.s3-website.eu-central-1.amazonaws.com/t10k-images-idx3-ubyte.gz to data/FashionMNIST/raw/t10k-images-idx3-ubyte.gz\n"
     ]
    },
    {
     "output_type": "display_data",
     "data": {
      "text/plain": [
       "  0%|          | 0/4422102 [00:00<?, ?it/s]"
      ],
      "application/vnd.jupyter.widget-view+json": {
       "version_major": 2,
       "version_minor": 0,
       "model_id": "ecbb1f56260f4de4a0ec10d5743b612e"
      }
     },
     "metadata": {}
    },
    {
     "output_type": "stream",
     "name": "stdout",
     "text": [
      "Extracting data/FashionMNIST/raw/t10k-images-idx3-ubyte.gz to data/FashionMNIST/raw\n",
      "\n",
      "Downloading http://fashion-mnist.s3-website.eu-central-1.amazonaws.com/t10k-labels-idx1-ubyte.gz\n",
      "Downloading http://fashion-mnist.s3-website.eu-central-1.amazonaws.com/t10k-labels-idx1-ubyte.gz to data/FashionMNIST/raw/t10k-labels-idx1-ubyte.gz\n"
     ]
    },
    {
     "output_type": "display_data",
     "data": {
      "text/plain": [
       "  0%|          | 0/5148 [00:00<?, ?it/s]"
      ],
      "application/vnd.jupyter.widget-view+json": {
       "version_major": 2,
       "version_minor": 0,
       "model_id": "3a6e43f9b8bf48f4909f14a7623cec32"
      }
     },
     "metadata": {}
    },
    {
     "output_type": "stream",
     "name": "stdout",
     "text": [
      "Extracting data/FashionMNIST/raw/t10k-labels-idx1-ubyte.gz to data/FashionMNIST/raw\n",
      "\n"
     ]
    }
   ]
  },
  {
   "cell_type": "code",
   "metadata": {
    "id": "tSjzcWH4FuDo",
    "colab": {
     "base_uri": "https://localhost:8080/",
     "height": 319
    },
    "outputId": "38d226e6-3ac2-49f3-b2fe-a078270db054",
    "pycharm": {
     "name": "#%%\n"
    }
   },
   "source": [
    "features, labels = next(train_loader.__iter__())\n",
    "print(features.shape)\n",
    "print(labels.shape)\n",
    "\n",
    "import matplotlib.pyplot as plt\n",
    "plt.imshow(features[1].cpu().numpy().squeeze(), cmap='gray')"
   ],
   "execution_count": null,
   "outputs": [
    {
     "output_type": "stream",
     "name": "stdout",
     "text": [
      "torch.Size([50, 1, 28, 28])\n",
      "torch.Size([50])\n"
     ]
    },
    {
     "output_type": "execute_result",
     "data": {
      "text/plain": [
       "<matplotlib.image.AxesImage at 0x7fefd6eb7e10>"
      ]
     },
     "metadata": {},
     "execution_count": 25
    },
    {
     "output_type": "display_data",
     "data": {
      "text/plain": [
       "<Figure size 432x288 with 1 Axes>"
      ],
      "image/png": "[encoded data removed]"
     },
     "metadata": {
      "needs_background": "light"
     }
    }
   ]
  },
  {
   "cell_type": "markdown",
   "metadata": {
    "id": "v6dCiKe_PwSw",
    "pycharm": {
     "name": "#%% md\n"
    }
   },
   "source": [
    "## Section 5. Train on GPU and parallel on GPU\n",
    "------------------------------------------------------\n",
    "\n",
    "To train on GPU, you only need to make sure your model and data are  CUDA tensor types, i.e. they are on GPU devices.\n",
    "\n"
   ]
  },
  {
   "cell_type": "code",
   "metadata": {
    "colab": {
     "base_uri": "https://localhost:8080/"
    },
    "id": "99rvCYOEPz_Z",
    "outputId": "947cf05d-5f64-45ed-bc12-c3676dacfb9a",
    "pycharm": {
     "name": "#%%\n"
    }
   },
   "source": [
    "# check cuda availability\n",
    "print('Cuda avaiblble?', torch.cuda.is_available())\n",
    "\n",
    "# A compromise way to set cuda, by detecting cuda availability\n",
    "device = torch.device('cuda' if torch.cuda.is_available() else 'cpu')\n",
    "print('device is :', device)\n",
    "\n",
    "# convert the tensor\n",
    "x = torch.randn(2,2)\n",
    "print('cpu tensor \\n', x)\n",
    "x = x.to(device)\n",
    "print('After changing device\\n',x)\n",
    "\n",
    "# conver the module\n",
    "layer = torch.nn.Linear(2,2)\n",
    "print(list(layer.parameters()))\n",
    "layer = layer.to(device)\n",
    "print(list(layer.parameters()))\n"
   ],
   "execution_count": null,
   "outputs": [
    {
     "output_type": "stream",
     "name": "stdout",
     "text": [
      "Cuda avaiblble? True\n",
      "device is : cuda\n",
      "cpu tensor \n",
      " tensor([[-0.5659, -1.1786],\n",
      "        [-0.1151,  1.1670]])\n",
      "After changing device\n",
      " tensor([[-0.5659, -1.1786],\n",
      "        [-0.1151,  1.1670]], device='cuda:0')\n",
      "[Parameter containing:\n",
      "tensor([[ 0.3919,  0.4141],\n",
      "        [-0.2011,  0.0991]], requires_grad=True), Parameter containing:\n",
      "tensor([ 0.4662, -0.4290], requires_grad=True)]\n",
      "[Parameter containing:\n",
      "tensor([[ 0.3919,  0.4141],\n",
      "        [-0.2011,  0.0991]], device='cuda:0', requires_grad=True), Parameter containing:\n",
      "tensor([ 0.4662, -0.4290], device='cuda:0', requires_grad=True)]\n"
     ]
    }
   ]
  },
  {
   "cell_type": "code",
   "metadata": {
    "colab": {
     "base_uri": "https://localhost:8080/",
     "height": 783
    },
    "id": "tuPr2ap5NL0b",
    "outputId": "872c6958-1e77-4c81-d991-e54f993cfee6",
    "pycharm": {
     "name": "#%%\n"
    }
   },
   "source": [
    "import time\n",
    "# A compromise way to set cuda, by detecting cuda availability\n",
    "#device = torch.device('cuda' if torch.cuda.is_available() else 'cpu')\n",
    "device = torch.device('cpu')\n",
    "\n",
    "n_sample,dim, target_dim = 10000,50,2\n",
    "x_batch = torch.randn(n_sample,dim)\n",
    "y_batch_target = torch.randn(n_sample,target_dim)\n",
    "net = torch.nn.Linear(dim, target_dim)\n",
    "log = []\n",
    "optimizer = torch.optim.SGD(net.parameters(), lr=0.001, momentum=0.5)\n",
    "\n",
    "# set cuda device\n",
    "net = net.to(device)\n",
    "\n",
    "x_batch = x_batch.to(device)\n",
    "y_batch_target = y_batch_target.to(device)\n",
    "\n",
    "start_time = time.time()\n",
    "for _ in range(5000):\n",
    "    # set cuda device to the batch of data.\n",
    "\n",
    "    y_batch = net(x_batch)\n",
    "    loss = ((y_batch - y_batch_target) ** 2).sum(1).mean()\n",
    "    log.append(loss.item())\n",
    "    \n",
    "    optimizer.zero_grad()\n",
    "    loss.backward()\n",
    "    optimizer.step()\n",
    "end_time = time.time()\n",
    "print(f'weight is {net.weight}\\n')\n",
    "print(f'bias is {net.bias}\\n')\n",
    "print(f'time cost {(end_time-start_time):.3f} on the device {device}')\n",
    "\n",
    "%matplotlib inline\n",
    "import matplotlib.pyplot as plt\n",
    "plt.ylabel('loss')\n",
    "plt.xlabel('iteration')\n",
    "plt.plot(log)"
   ],
   "execution_count": null,
   "outputs": [
    {
     "output_type": "stream",
     "name": "stdout",
     "text": [
      "weight is Parameter containing:\n",
      "tensor([[-5.3541e-03, -3.3128e-03,  9.4465e-03, -9.2179e-03, -1.2124e-02,\n",
      "          2.2213e-03,  2.3600e-03, -1.3393e-02, -4.2815e-03, -5.3719e-03,\n",
      "         -2.4657e-03, -1.0396e-02,  5.1716e-03,  8.8035e-03,  4.1357e-03,\n",
      "         -9.2886e-03,  2.6632e-03,  9.5413e-04,  1.1681e-02,  2.3211e-02,\n",
      "          3.5306e-03,  1.6722e-02, -3.5004e-03, -7.9248e-03,  1.1095e-03,\n",
      "         -1.3950e-02, -1.5622e-04,  2.5812e-03,  1.2555e-02,  1.0102e-02,\n",
      "          4.0899e-03, -4.0438e-03,  8.7885e-03, -1.3271e-02,  3.6583e-03,\n",
      "         -5.9039e-04, -5.9275e-03, -6.6224e-03,  6.8181e-03, -5.4242e-03,\n",
      "         -3.9054e-03, -4.5675e-03,  1.5117e-02, -1.4558e-02,  1.4620e-02,\n",
      "         -4.8631e-03, -8.3572e-03, -2.6886e-02,  1.8085e-02,  7.7480e-03],\n",
      "        [-5.5786e-04,  2.5728e-02, -2.4615e-02,  1.1213e-03,  2.6084e-03,\n",
      "         -8.8718e-05, -1.1285e-02,  3.6583e-03,  3.8968e-03, -1.3560e-02,\n",
      "         -9.1200e-03,  1.1810e-02,  2.1690e-02, -3.3373e-03, -1.0235e-02,\n",
      "         -1.8172e-02,  1.2756e-02,  1.1408e-02, -1.3352e-02, -2.1900e-03,\n",
      "          7.9687e-03,  6.7020e-03, -1.5972e-02,  3.7408e-04, -2.7224e-03,\n",
      "          7.4583e-03,  3.9880e-03, -5.9372e-03, -1.6816e-03,  2.9125e-03,\n",
      "          5.8238e-03, -1.7760e-02, -3.9775e-03, -7.8305e-05, -1.1683e-02,\n",
      "         -3.3353e-03,  1.4654e-02, -7.5964e-04,  1.9629e-04, -1.1322e-02,\n",
      "          1.1708e-03, -2.5340e-03, -5.3030e-03, -7.0195e-04,  7.5772e-03,\n",
      "          1.4596e-02, -3.9802e-03,  4.4006e-03,  2.0610e-02, -4.9398e-03]],\n",
      "       requires_grad=True)\n",
      "\n",
      "bias is Parameter containing:\n",
      "tensor([0.0008, 0.0043], requires_grad=True)\n",
      "\n",
      "time cost 5.705 on the device cpu\n"
     ]
    },
    {
     "output_type": "execute_result",
     "data": {
      "text/plain": [
       "[<matplotlib.lines.Line2D at 0x7fefd6d8e8d0>]"
      ]
     },
     "metadata": {},
     "execution_count": 27
    },
    {
     "output_type": "display_data",
     "data": {
      "text/plain": [
       "<Figure size 432x288 with 1 Axes>"
      ],
      "image/png": "[encoded data removed]"
     },
     "metadata": {
      "needs_background": "light"
     }
    }
   ]
  },
  {
   "cell_type": "markdown",
   "metadata": {
    "id": "waKCwNA_6OFk",
    "pycharm": {
     "name": "#%% md\n"
    }
   },
   "source": [
    "## Parallel on GPU\n",
    "To achieve parallel training on GPU, pytorch provides a helpful wrapper. \n",
    "However, we need to be careful about parallel wrapped model at training, saving, loading. \n",
    "\n",
    "In training, the loss will become multiple. To deal with this, use 'loss =  torch.mean(loss)' before backpropagation.\n",
    "\n",
    "In saving, use 'torch.save(model.module.state_dict(), #FILE PATH#)'\n",
    "in loading, use 'model.module.load_state_dict(torch.load(#FILE PATH#))'\n"
   ]
  },
  {
   "cell_type": "code",
   "metadata": {
    "id": "imQDmf_L6TsE",
    "colab": {
     "base_uri": "https://localhost:8080/"
    },
    "outputId": "3619feb5-f2db-4b34-869e-f76b68de6149",
    "pycharm": {
     "name": "#%%\n"
    }
   },
   "source": [
    "model = nn.Linear(3,2)\n",
    "model = nn.DataParallel(model)\n",
    "print(model)\n",
    "print(model.module)"
   ],
   "execution_count": null,
   "outputs": [
    {
     "output_type": "stream",
     "name": "stdout",
     "text": [
      "DataParallel(\n",
      "  (module): Linear(in_features=3, out_features=2, bias=True)\n",
      ")\n",
      "Linear(in_features=3, out_features=2, bias=True)\n"
     ]
    }
   ]
  },
  {
   "cell_type": "code",
   "metadata": {
    "id": "rQ1tDmKlK-pc",
    "pycharm": {
     "name": "#%%\n"
    }
   },
   "source": [
    "if torch.cuda.device_count() > 1:\n",
    "  print(\"Let's use\", torch.cuda.device_count(), \"GPUs!\")\n",
    "  model = nn.DataParallel(model)"
   ],
   "execution_count": null,
   "outputs": []
  },
  {
   "cell_type": "markdown",
   "metadata": {
    "id": "wS0RjAc_RyXi",
    "pycharm": {
     "name": "#%% md\n"
    }
   },
   "source": [
    "# The End"
   ]
  },
  {
   "cell_type": "code",
   "source": [],
   "metadata": {
    "id": "bhqlyFlL3gOM",
    "pycharm": {
     "name": "#%%\n"
    }
   },
   "execution_count": null,
   "outputs": []
  }
 ]
}